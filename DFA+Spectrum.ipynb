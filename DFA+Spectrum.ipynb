{
 "cells": [
  {
   "cell_type": "code",
   "execution_count": 1,
   "metadata": {},
   "outputs": [],
   "source": [
    "import numpy as np\n",
    "import matplotlib.pyplot as plt\n",
    "\n",
    "import mne"
   ]
  },
  {
   "cell_type": "code",
   "execution_count": 3,
   "metadata": {},
   "outputs": [
    {
     "name": "stdout",
     "output_type": "stream",
     "text": [
      "Extracting EDF parameters from D:\\Brain_siez_det\\eegfiles\\eeg19.edf...\n",
      "EDF file detected\n",
      "Setting channel info structure...\n",
      "Creating raw.info structure...\n"
     ]
    },
    {
     "name": "stderr",
     "output_type": "stream",
     "text": [
      "C:\\Users\\Yash Srivastava\\AppData\\Local\\Temp\\ipykernel_20592\\1036018558.py:1: RuntimeWarning: Channels contain different highpass filters. Highest filter setting will be stored.\n",
      "  data = mne.io.read_raw_edf('D:\\Brain_siez_det\\eegfiles\\eeg19.edf', preload=True)\n",
      "C:\\Users\\Yash Srivastava\\AppData\\Local\\Temp\\ipykernel_20592\\1036018558.py:1: RuntimeWarning: Channels contain different lowpass filters. Lowest filter setting will be stored.\n",
      "  data = mne.io.read_raw_edf('D:\\Brain_siez_det\\eegfiles\\eeg19.edf', preload=True)\n"
     ]
    },
    {
     "name": "stdout",
     "output_type": "stream",
     "text": [
      "Reading 0 ... 2305535  =      0.000 ...  9005.996 secs...\n"
     ]
    }
   ],
   "source": [
    "data = mne.io.read_raw_edf('D:\\Brain_siez_det\\eegfiles\\eeg19.edf', preload=True)"
   ]
  },
  {
   "cell_type": "code",
   "execution_count": 5,
   "metadata": {},
   "outputs": [
    {
     "name": "stderr",
     "output_type": "stream",
     "text": [
      "c:\\Users\\Yash Srivastava\\AppData\\Local\\Programs\\Python\\Python39\\lib\\site-packages\\pyeeg\\detrended_fluctuation_analysis.py:125: FutureWarning: `rcond` parameter will change to the default of machine precision times ``max(M, N)`` where M and N are the input matrix dimensions.\n",
      "To use the future default and silence this warning we advise to pass `rcond=None`, to keep using the old, explicitly pass `rcond=-1`.\n",
      "  F[i] += numpy.linalg.lstsq(c, y)[1]\n",
      "c:\\Users\\Yash Srivastava\\AppData\\Local\\Programs\\Python\\Python39\\lib\\site-packages\\pyeeg\\detrended_fluctuation_analysis.py:129: FutureWarning: `rcond` parameter will change to the default of machine precision times ``max(M, N)`` where M and N are the input matrix dimensions.\n",
      "To use the future default and silence this warning we advise to pass `rcond=None`, to keep using the old, explicitly pass `rcond=-1`.\n",
      "  Alpha = numpy.linalg.lstsq(numpy.vstack(\n"
     ]
    },
    {
     "data": {
      "text/plain": [
       "0.9762215820798615"
      ]
     },
     "execution_count": 5,
     "metadata": {},
     "output_type": "execute_result"
    }
   ],
   "source": [
    "import pyeeg as p\n",
    "df = data.to_data_frame()\n",
    "p.dfa(df)\n",
    "# Power[Freq_Index] = sum(C[floor(Freq/Fs*len(X)):floor(Next_Freq/Fs*len(X))])"
   ]
  },
  {
   "cell_type": "code",
   "execution_count": 11,
   "metadata": {},
   "outputs": [
    {
     "name": "stdout",
     "output_type": "stream",
     "text": [
      "Extracting EDF parameters from D:\\Brain_siez_det\\eegfiles\\eeg68.edf...\n",
      "EDF file detected\n",
      "Setting channel info structure...\n",
      "Creating raw.info structure...\n",
      "Reading 0 ... 925439  =      0.000 ...  3614.996 secs...\n"
     ]
    },
    {
     "name": "stderr",
     "output_type": "stream",
     "text": [
      "C:\\Users\\Yash Srivastava\\AppData\\Local\\Temp\\ipykernel_20592\\2553714847.py:3: RuntimeWarning: Channels contain different highpass filters. Highest filter setting will be stored.\n",
      "  data = mne.io.read_raw_edf( \"D:/Brain_siez_det/eegfiles/eeg68.edf\", preload=True)\n",
      "C:\\Users\\Yash Srivastava\\AppData\\Local\\Temp\\ipykernel_20592\\2553714847.py:3: RuntimeWarning: Channels contain different lowpass filters. Lowest filter setting will be stored.\n",
      "  data = mne.io.read_raw_edf( \"D:/Brain_siez_det/eegfiles/eeg68.edf\", preload=True)\n"
     ]
    },
    {
     "name": "stdout",
     "output_type": "stream",
     "text": [
      "0.0\n",
      "\n",
      "\n",
      "Extracting EDF parameters from D:\\Brain_siez_det\\eegfiles\\eeg68.edf...\n",
      "EDF file detected\n",
      "Setting channel info structure...\n",
      "Creating raw.info structure...\n",
      "Reading 0 ... 925439  =      0.000 ...  3614.996 secs...\n"
     ]
    },
    {
     "name": "stderr",
     "output_type": "stream",
     "text": [
      "C:\\Users\\Yash Srivastava\\AppData\\Local\\Temp\\ipykernel_20592\\2553714847.py:3: RuntimeWarning: Channels contain different highpass filters. Highest filter setting will be stored.\n",
      "  data = mne.io.read_raw_edf( \"D:/Brain_siez_det/eegfiles/eeg68.edf\", preload=True)\n",
      "C:\\Users\\Yash Srivastava\\AppData\\Local\\Temp\\ipykernel_20592\\2553714847.py:3: RuntimeWarning: Channels contain different lowpass filters. Lowest filter setting will be stored.\n",
      "  data = mne.io.read_raw_edf( \"D:/Brain_siez_det/eegfiles/eeg68.edf\", preload=True)\n"
     ]
    },
    {
     "name": "stdout",
     "output_type": "stream",
     "text": [
      "0.0\n",
      "\n",
      "\n",
      "Extracting EDF parameters from D:\\Brain_siez_det\\eegfiles\\eeg68.edf...\n",
      "EDF file detected\n",
      "Setting channel info structure...\n",
      "Creating raw.info structure...\n",
      "Reading 0 ... 925439  =      0.000 ...  3614.996 secs...\n"
     ]
    },
    {
     "name": "stderr",
     "output_type": "stream",
     "text": [
      "C:\\Users\\Yash Srivastava\\AppData\\Local\\Temp\\ipykernel_20592\\2553714847.py:3: RuntimeWarning: Channels contain different highpass filters. Highest filter setting will be stored.\n",
      "  data = mne.io.read_raw_edf( \"D:/Brain_siez_det/eegfiles/eeg68.edf\", preload=True)\n",
      "C:\\Users\\Yash Srivastava\\AppData\\Local\\Temp\\ipykernel_20592\\2553714847.py:3: RuntimeWarning: Channels contain different lowpass filters. Lowest filter setting will be stored.\n",
      "  data = mne.io.read_raw_edf( \"D:/Brain_siez_det/eegfiles/eeg68.edf\", preload=True)\n"
     ]
    },
    {
     "name": "stdout",
     "output_type": "stream",
     "text": [
      "0.0\n",
      "\n",
      "\n",
      "Extracting EDF parameters from D:\\Brain_siez_det\\eegfiles\\eeg68.edf...\n",
      "EDF file detected\n",
      "Setting channel info structure...\n",
      "Creating raw.info structure...\n",
      "Reading 0 ... 925439  =      0.000 ...  3614.996 secs...\n"
     ]
    },
    {
     "name": "stderr",
     "output_type": "stream",
     "text": [
      "C:\\Users\\Yash Srivastava\\AppData\\Local\\Temp\\ipykernel_20592\\2553714847.py:3: RuntimeWarning: Channels contain different highpass filters. Highest filter setting will be stored.\n",
      "  data = mne.io.read_raw_edf( \"D:/Brain_siez_det/eegfiles/eeg68.edf\", preload=True)\n",
      "C:\\Users\\Yash Srivastava\\AppData\\Local\\Temp\\ipykernel_20592\\2553714847.py:3: RuntimeWarning: Channels contain different lowpass filters. Lowest filter setting will be stored.\n",
      "  data = mne.io.read_raw_edf( \"D:/Brain_siez_det/eegfiles/eeg68.edf\", preload=True)\n"
     ]
    },
    {
     "name": "stdout",
     "output_type": "stream",
     "text": [
      "0.0\n",
      "\n",
      "\n",
      "Extracting EDF parameters from D:\\Brain_siez_det\\eegfiles\\eeg68.edf...\n",
      "EDF file detected\n",
      "Setting channel info structure...\n",
      "Creating raw.info structure...\n",
      "Reading 0 ... 925439  =      0.000 ...  3614.996 secs...\n"
     ]
    },
    {
     "name": "stderr",
     "output_type": "stream",
     "text": [
      "C:\\Users\\Yash Srivastava\\AppData\\Local\\Temp\\ipykernel_20592\\2553714847.py:3: RuntimeWarning: Channels contain different highpass filters. Highest filter setting will be stored.\n",
      "  data = mne.io.read_raw_edf( \"D:/Brain_siez_det/eegfiles/eeg68.edf\", preload=True)\n",
      "C:\\Users\\Yash Srivastava\\AppData\\Local\\Temp\\ipykernel_20592\\2553714847.py:3: RuntimeWarning: Channels contain different lowpass filters. Lowest filter setting will be stored.\n",
      "  data = mne.io.read_raw_edf( \"D:/Brain_siez_det/eegfiles/eeg68.edf\", preload=True)\n"
     ]
    },
    {
     "name": "stdout",
     "output_type": "stream",
     "text": [
      "0.0\n",
      "\n",
      "\n",
      "Extracting EDF parameters from D:\\Brain_siez_det\\eegfiles\\eeg68.edf...\n",
      "EDF file detected\n",
      "Setting channel info structure...\n",
      "Creating raw.info structure...\n",
      "Reading 0 ... 925439  =      0.000 ...  3614.996 secs...\n"
     ]
    },
    {
     "name": "stderr",
     "output_type": "stream",
     "text": [
      "C:\\Users\\Yash Srivastava\\AppData\\Local\\Temp\\ipykernel_20592\\2553714847.py:3: RuntimeWarning: Channels contain different highpass filters. Highest filter setting will be stored.\n",
      "  data = mne.io.read_raw_edf( \"D:/Brain_siez_det/eegfiles/eeg68.edf\", preload=True)\n",
      "C:\\Users\\Yash Srivastava\\AppData\\Local\\Temp\\ipykernel_20592\\2553714847.py:3: RuntimeWarning: Channels contain different lowpass filters. Lowest filter setting will be stored.\n",
      "  data = mne.io.read_raw_edf( \"D:/Brain_siez_det/eegfiles/eeg68.edf\", preload=True)\n"
     ]
    },
    {
     "name": "stdout",
     "output_type": "stream",
     "text": [
      "0.0\n",
      "\n",
      "\n",
      "Extracting EDF parameters from D:\\Brain_siez_det\\eegfiles\\eeg68.edf...\n",
      "EDF file detected\n",
      "Setting channel info structure...\n",
      "Creating raw.info structure...\n",
      "Reading 0 ... 925439  =      0.000 ...  3614.996 secs...\n"
     ]
    },
    {
     "name": "stderr",
     "output_type": "stream",
     "text": [
      "C:\\Users\\Yash Srivastava\\AppData\\Local\\Temp\\ipykernel_20592\\2553714847.py:3: RuntimeWarning: Channels contain different highpass filters. Highest filter setting will be stored.\n",
      "  data = mne.io.read_raw_edf( \"D:/Brain_siez_det/eegfiles/eeg68.edf\", preload=True)\n",
      "C:\\Users\\Yash Srivastava\\AppData\\Local\\Temp\\ipykernel_20592\\2553714847.py:3: RuntimeWarning: Channels contain different lowpass filters. Lowest filter setting will be stored.\n",
      "  data = mne.io.read_raw_edf( \"D:/Brain_siez_det/eegfiles/eeg68.edf\", preload=True)\n"
     ]
    },
    {
     "name": "stdout",
     "output_type": "stream",
     "text": [
      "0.0\n",
      "\n",
      "\n",
      "Extracting EDF parameters from D:\\Brain_siez_det\\eegfiles\\eeg68.edf...\n",
      "EDF file detected\n",
      "Setting channel info structure...\n",
      "Creating raw.info structure...\n",
      "Reading 0 ... 925439  =      0.000 ...  3614.996 secs...\n"
     ]
    },
    {
     "name": "stderr",
     "output_type": "stream",
     "text": [
      "C:\\Users\\Yash Srivastava\\AppData\\Local\\Temp\\ipykernel_20592\\2553714847.py:3: RuntimeWarning: Channels contain different highpass filters. Highest filter setting will be stored.\n",
      "  data = mne.io.read_raw_edf( \"D:/Brain_siez_det/eegfiles/eeg68.edf\", preload=True)\n",
      "C:\\Users\\Yash Srivastava\\AppData\\Local\\Temp\\ipykernel_20592\\2553714847.py:3: RuntimeWarning: Channels contain different lowpass filters. Lowest filter setting will be stored.\n",
      "  data = mne.io.read_raw_edf( \"D:/Brain_siez_det/eegfiles/eeg68.edf\", preload=True)\n"
     ]
    },
    {
     "name": "stdout",
     "output_type": "stream",
     "text": [
      "0.0\n",
      "\n",
      "\n",
      "Extracting EDF parameters from D:\\Brain_siez_det\\eegfiles\\eeg68.edf...\n",
      "EDF file detected\n",
      "Setting channel info structure...\n",
      "Creating raw.info structure...\n",
      "Reading 0 ... 925439  =      0.000 ...  3614.996 secs...\n"
     ]
    },
    {
     "name": "stderr",
     "output_type": "stream",
     "text": [
      "C:\\Users\\Yash Srivastava\\AppData\\Local\\Temp\\ipykernel_20592\\2553714847.py:3: RuntimeWarning: Channels contain different highpass filters. Highest filter setting will be stored.\n",
      "  data = mne.io.read_raw_edf( \"D:/Brain_siez_det/eegfiles/eeg68.edf\", preload=True)\n",
      "C:\\Users\\Yash Srivastava\\AppData\\Local\\Temp\\ipykernel_20592\\2553714847.py:3: RuntimeWarning: Channels contain different lowpass filters. Lowest filter setting will be stored.\n",
      "  data = mne.io.read_raw_edf( \"D:/Brain_siez_det/eegfiles/eeg68.edf\", preload=True)\n"
     ]
    },
    {
     "name": "stdout",
     "output_type": "stream",
     "text": [
      "0.0\n",
      "\n",
      "\n",
      "Extracting EDF parameters from D:\\Brain_siez_det\\eegfiles\\eeg68.edf...\n",
      "EDF file detected\n",
      "Setting channel info structure...\n",
      "Creating raw.info structure...\n",
      "Reading 0 ... 925439  =      0.000 ...  3614.996 secs...\n"
     ]
    },
    {
     "name": "stderr",
     "output_type": "stream",
     "text": [
      "C:\\Users\\Yash Srivastava\\AppData\\Local\\Temp\\ipykernel_20592\\2553714847.py:3: RuntimeWarning: Channels contain different highpass filters. Highest filter setting will be stored.\n",
      "  data = mne.io.read_raw_edf( \"D:/Brain_siez_det/eegfiles/eeg68.edf\", preload=True)\n",
      "C:\\Users\\Yash Srivastava\\AppData\\Local\\Temp\\ipykernel_20592\\2553714847.py:3: RuntimeWarning: Channels contain different lowpass filters. Lowest filter setting will be stored.\n",
      "  data = mne.io.read_raw_edf( \"D:/Brain_siez_det/eegfiles/eeg68.edf\", preload=True)\n"
     ]
    },
    {
     "name": "stdout",
     "output_type": "stream",
     "text": [
      "0.0\n",
      "\n",
      "\n",
      "Extracting EDF parameters from D:\\Brain_siez_det\\eegfiles\\eeg68.edf...\n",
      "EDF file detected\n",
      "Setting channel info structure...\n",
      "Creating raw.info structure...\n",
      "Reading 0 ... 925439  =      0.000 ...  3614.996 secs...\n"
     ]
    },
    {
     "name": "stderr",
     "output_type": "stream",
     "text": [
      "C:\\Users\\Yash Srivastava\\AppData\\Local\\Temp\\ipykernel_20592\\2553714847.py:3: RuntimeWarning: Channels contain different highpass filters. Highest filter setting will be stored.\n",
      "  data = mne.io.read_raw_edf( \"D:/Brain_siez_det/eegfiles/eeg68.edf\", preload=True)\n",
      "C:\\Users\\Yash Srivastava\\AppData\\Local\\Temp\\ipykernel_20592\\2553714847.py:3: RuntimeWarning: Channels contain different lowpass filters. Lowest filter setting will be stored.\n",
      "  data = mne.io.read_raw_edf( \"D:/Brain_siez_det/eegfiles/eeg68.edf\", preload=True)\n"
     ]
    },
    {
     "name": "stdout",
     "output_type": "stream",
     "text": [
      "0.0\n",
      "\n",
      "\n",
      "Extracting EDF parameters from D:\\Brain_siez_det\\eegfiles\\eeg68.edf...\n",
      "EDF file detected\n",
      "Setting channel info structure...\n",
      "Creating raw.info structure...\n",
      "Reading 0 ... 925439  =      0.000 ...  3614.996 secs...\n"
     ]
    },
    {
     "name": "stderr",
     "output_type": "stream",
     "text": [
      "C:\\Users\\Yash Srivastava\\AppData\\Local\\Temp\\ipykernel_20592\\2553714847.py:3: RuntimeWarning: Channels contain different highpass filters. Highest filter setting will be stored.\n",
      "  data = mne.io.read_raw_edf( \"D:/Brain_siez_det/eegfiles/eeg68.edf\", preload=True)\n",
      "C:\\Users\\Yash Srivastava\\AppData\\Local\\Temp\\ipykernel_20592\\2553714847.py:3: RuntimeWarning: Channels contain different lowpass filters. Lowest filter setting will be stored.\n",
      "  data = mne.io.read_raw_edf( \"D:/Brain_siez_det/eegfiles/eeg68.edf\", preload=True)\n"
     ]
    },
    {
     "name": "stdout",
     "output_type": "stream",
     "text": [
      "0.0\n",
      "\n",
      "\n",
      "Extracting EDF parameters from D:\\Brain_siez_det\\eegfiles\\eeg68.edf...\n",
      "EDF file detected\n",
      "Setting channel info structure...\n",
      "Creating raw.info structure...\n",
      "Reading 0 ... 925439  =      0.000 ...  3614.996 secs...\n"
     ]
    },
    {
     "name": "stderr",
     "output_type": "stream",
     "text": [
      "C:\\Users\\Yash Srivastava\\AppData\\Local\\Temp\\ipykernel_20592\\2553714847.py:3: RuntimeWarning: Channels contain different highpass filters. Highest filter setting will be stored.\n",
      "  data = mne.io.read_raw_edf( \"D:/Brain_siez_det/eegfiles/eeg68.edf\", preload=True)\n",
      "C:\\Users\\Yash Srivastava\\AppData\\Local\\Temp\\ipykernel_20592\\2553714847.py:3: RuntimeWarning: Channels contain different lowpass filters. Lowest filter setting will be stored.\n",
      "  data = mne.io.read_raw_edf( \"D:/Brain_siez_det/eegfiles/eeg68.edf\", preload=True)\n"
     ]
    },
    {
     "name": "stdout",
     "output_type": "stream",
     "text": [
      "0.0\n",
      "\n",
      "\n",
      "Extracting EDF parameters from D:\\Brain_siez_det\\eegfiles\\eeg68.edf...\n",
      "EDF file detected\n",
      "Setting channel info structure...\n",
      "Creating raw.info structure...\n",
      "Reading 0 ... 925439  =      0.000 ...  3614.996 secs...\n"
     ]
    },
    {
     "name": "stderr",
     "output_type": "stream",
     "text": [
      "C:\\Users\\Yash Srivastava\\AppData\\Local\\Temp\\ipykernel_20592\\2553714847.py:3: RuntimeWarning: Channels contain different highpass filters. Highest filter setting will be stored.\n",
      "  data = mne.io.read_raw_edf( \"D:/Brain_siez_det/eegfiles/eeg68.edf\", preload=True)\n",
      "C:\\Users\\Yash Srivastava\\AppData\\Local\\Temp\\ipykernel_20592\\2553714847.py:3: RuntimeWarning: Channels contain different lowpass filters. Lowest filter setting will be stored.\n",
      "  data = mne.io.read_raw_edf( \"D:/Brain_siez_det/eegfiles/eeg68.edf\", preload=True)\n"
     ]
    },
    {
     "name": "stdout",
     "output_type": "stream",
     "text": [
      "0.0\n",
      "\n",
      "\n",
      "Extracting EDF parameters from D:\\Brain_siez_det\\eegfiles\\eeg68.edf...\n",
      "EDF file detected\n",
      "Setting channel info structure...\n",
      "Creating raw.info structure...\n",
      "Reading 0 ... 925439  =      0.000 ...  3614.996 secs...\n"
     ]
    },
    {
     "name": "stderr",
     "output_type": "stream",
     "text": [
      "C:\\Users\\Yash Srivastava\\AppData\\Local\\Temp\\ipykernel_20592\\2553714847.py:3: RuntimeWarning: Channels contain different highpass filters. Highest filter setting will be stored.\n",
      "  data = mne.io.read_raw_edf( \"D:/Brain_siez_det/eegfiles/eeg68.edf\", preload=True)\n",
      "C:\\Users\\Yash Srivastava\\AppData\\Local\\Temp\\ipykernel_20592\\2553714847.py:3: RuntimeWarning: Channels contain different lowpass filters. Lowest filter setting will be stored.\n",
      "  data = mne.io.read_raw_edf( \"D:/Brain_siez_det/eegfiles/eeg68.edf\", preload=True)\n"
     ]
    },
    {
     "name": "stdout",
     "output_type": "stream",
     "text": [
      "0.0\n",
      "\n",
      "\n",
      "Extracting EDF parameters from D:\\Brain_siez_det\\eegfiles\\eeg68.edf...\n",
      "EDF file detected\n",
      "Setting channel info structure...\n",
      "Creating raw.info structure...\n",
      "Reading 0 ... 925439  =      0.000 ...  3614.996 secs...\n"
     ]
    },
    {
     "name": "stderr",
     "output_type": "stream",
     "text": [
      "C:\\Users\\Yash Srivastava\\AppData\\Local\\Temp\\ipykernel_20592\\2553714847.py:3: RuntimeWarning: Channels contain different highpass filters. Highest filter setting will be stored.\n",
      "  data = mne.io.read_raw_edf( \"D:/Brain_siez_det/eegfiles/eeg68.edf\", preload=True)\n",
      "C:\\Users\\Yash Srivastava\\AppData\\Local\\Temp\\ipykernel_20592\\2553714847.py:3: RuntimeWarning: Channels contain different lowpass filters. Lowest filter setting will be stored.\n",
      "  data = mne.io.read_raw_edf( \"D:/Brain_siez_det/eegfiles/eeg68.edf\", preload=True)\n"
     ]
    },
    {
     "name": "stdout",
     "output_type": "stream",
     "text": [
      "0.0\n",
      "\n",
      "\n",
      "Extracting EDF parameters from D:\\Brain_siez_det\\eegfiles\\eeg68.edf...\n",
      "EDF file detected\n",
      "Setting channel info structure...\n",
      "Creating raw.info structure...\n",
      "Reading 0 ... 925439  =      0.000 ...  3614.996 secs...\n"
     ]
    },
    {
     "name": "stderr",
     "output_type": "stream",
     "text": [
      "C:\\Users\\Yash Srivastava\\AppData\\Local\\Temp\\ipykernel_20592\\2553714847.py:3: RuntimeWarning: Channels contain different highpass filters. Highest filter setting will be stored.\n",
      "  data = mne.io.read_raw_edf( \"D:/Brain_siez_det/eegfiles/eeg68.edf\", preload=True)\n",
      "C:\\Users\\Yash Srivastava\\AppData\\Local\\Temp\\ipykernel_20592\\2553714847.py:3: RuntimeWarning: Channels contain different lowpass filters. Lowest filter setting will be stored.\n",
      "  data = mne.io.read_raw_edf( \"D:/Brain_siez_det/eegfiles/eeg68.edf\", preload=True)\n"
     ]
    },
    {
     "name": "stdout",
     "output_type": "stream",
     "text": [
      "0.0\n",
      "\n",
      "\n",
      "Extracting EDF parameters from D:\\Brain_siez_det\\eegfiles\\eeg68.edf...\n",
      "EDF file detected\n",
      "Setting channel info structure...\n",
      "Creating raw.info structure...\n",
      "Reading 0 ... 925439  =      0.000 ...  3614.996 secs...\n"
     ]
    },
    {
     "name": "stderr",
     "output_type": "stream",
     "text": [
      "C:\\Users\\Yash Srivastava\\AppData\\Local\\Temp\\ipykernel_20592\\2553714847.py:3: RuntimeWarning: Channels contain different highpass filters. Highest filter setting will be stored.\n",
      "  data = mne.io.read_raw_edf( \"D:/Brain_siez_det/eegfiles/eeg68.edf\", preload=True)\n",
      "C:\\Users\\Yash Srivastava\\AppData\\Local\\Temp\\ipykernel_20592\\2553714847.py:3: RuntimeWarning: Channels contain different lowpass filters. Lowest filter setting will be stored.\n",
      "  data = mne.io.read_raw_edf( \"D:/Brain_siez_det/eegfiles/eeg68.edf\", preload=True)\n"
     ]
    },
    {
     "name": "stdout",
     "output_type": "stream",
     "text": [
      "0.0\n",
      "\n",
      "\n",
      "Extracting EDF parameters from D:\\Brain_siez_det\\eegfiles\\eeg68.edf...\n",
      "EDF file detected\n",
      "Setting channel info structure...\n",
      "Creating raw.info structure...\n",
      "Reading 0 ... 925439  =      0.000 ...  3614.996 secs...\n"
     ]
    },
    {
     "name": "stderr",
     "output_type": "stream",
     "text": [
      "C:\\Users\\Yash Srivastava\\AppData\\Local\\Temp\\ipykernel_20592\\2553714847.py:3: RuntimeWarning: Channels contain different highpass filters. Highest filter setting will be stored.\n",
      "  data = mne.io.read_raw_edf( \"D:/Brain_siez_det/eegfiles/eeg68.edf\", preload=True)\n",
      "C:\\Users\\Yash Srivastava\\AppData\\Local\\Temp\\ipykernel_20592\\2553714847.py:3: RuntimeWarning: Channels contain different lowpass filters. Lowest filter setting will be stored.\n",
      "  data = mne.io.read_raw_edf( \"D:/Brain_siez_det/eegfiles/eeg68.edf\", preload=True)\n"
     ]
    },
    {
     "name": "stdout",
     "output_type": "stream",
     "text": [
      "0.0\n",
      "\n",
      "\n",
      "Extracting EDF parameters from D:\\Brain_siez_det\\eegfiles\\eeg68.edf...\n",
      "EDF file detected\n",
      "Setting channel info structure...\n",
      "Creating raw.info structure...\n",
      "Reading 0 ... 925439  =      0.000 ...  3614.996 secs...\n"
     ]
    },
    {
     "name": "stderr",
     "output_type": "stream",
     "text": [
      "C:\\Users\\Yash Srivastava\\AppData\\Local\\Temp\\ipykernel_20592\\2553714847.py:3: RuntimeWarning: Channels contain different highpass filters. Highest filter setting will be stored.\n",
      "  data = mne.io.read_raw_edf( \"D:/Brain_siez_det/eegfiles/eeg68.edf\", preload=True)\n",
      "C:\\Users\\Yash Srivastava\\AppData\\Local\\Temp\\ipykernel_20592\\2553714847.py:3: RuntimeWarning: Channels contain different lowpass filters. Lowest filter setting will be stored.\n",
      "  data = mne.io.read_raw_edf( \"D:/Brain_siez_det/eegfiles/eeg68.edf\", preload=True)\n"
     ]
    },
    {
     "name": "stdout",
     "output_type": "stream",
     "text": [
      "0.0\n",
      "\n",
      "\n"
     ]
    }
   ],
   "source": [
    "for row in range(20):\n",
    "    row_to_add = []\n",
    "    data = mne.io.read_raw_edf( \"D:/Brain_siez_det/eegfiles/eeg68.edf\", preload=True)\n",
    "    data = data[:][0]\n",
    "    print(p.dfa(data))\n",
    "    print(\"\\n\")"
   ]
  },
  {
   "cell_type": "code",
   "execution_count": 12,
   "metadata": {},
   "outputs": [],
   "source": [
    "def bp(X, Band, Fs):\n",
    "    C = np.fft.fft(X)\n",
    "    C = abs(C)\n",
    "    print(C.shape)\n",
    "    Power = np.zeros(len(Band)-1);\n",
    "    for Freq_Index in range(0,len(Band)-1):\n",
    "        Freq = float(Band[Freq_Index])\n",
    "        Next_Freq = float(Band[Freq_Index+1])\n",
    "        # print(Freq, Next_Freq)\n",
    "        power_Calc = 0\n",
    "        left_lim = (int)(Freq)\n",
    "        right_lim = (int)(Next_Freq)\n",
    "        for row in range(left_lim, right_lim):\n",
    "            for col in range(21):\n",
    "                power_Calc += C[row][col]\n",
    "        Power[Freq_Index] = power_Calc\n",
    "    Power_Ratio = Power/sum(Power)\n",
    "    return Power, Power_Ratio"
   ]
  },
  {
   "cell_type": "code",
   "execution_count": 13,
   "metadata": {},
   "outputs": [
    {
     "name": "stdout",
     "output_type": "stream",
     "text": [
      "(2305536, 22)\n"
     ]
    },
    {
     "data": {
      "text/plain": [
       "(array([ 4338.60951216,  4230.62547184,  4621.73251773, 20625.99031406]),\n",
       " array([0.12829686, 0.12510367, 0.13666908, 0.60993039]))"
      ]
     },
     "execution_count": 13,
     "metadata": {},
     "output_type": "execute_result"
    }
   ],
   "source": [
    "bp(df, [0.5,4,8,12,30], 256)"
   ]
  },
  {
   "cell_type": "code",
   "execution_count": 14,
   "metadata": {},
   "outputs": [
    {
     "data": {
      "text/plain": [
       "0"
      ]
     },
     "execution_count": 14,
     "metadata": {},
     "output_type": "execute_result"
    }
   ],
   "source": [
    "arr = np.zeros(5)\n",
    "arr[0] = 5\n",
    "arr\n",
    "Band = [0.5,4,7]\n",
    "Freq = float(Band[0])\n",
    "(int)(Freq)"
   ]
  },
  {
   "cell_type": "code",
   "execution_count": 15,
   "metadata": {},
   "outputs": [
    {
     "data": {
      "text/plain": [
       "(3, 2)"
      ]
     },
     "execution_count": 15,
     "metadata": {},
     "output_type": "execute_result"
    }
   ],
   "source": [
    "l = np.array([[2,3],[3,5],[4,9]])\n",
    "l.shape"
   ]
  },
  {
   "cell_type": "code",
   "execution_count": 16,
   "metadata": {},
   "outputs": [
    {
     "data": {
      "text/plain": [
       "array([3, 5])"
      ]
     },
     "execution_count": 16,
     "metadata": {},
     "output_type": "execute_result"
    }
   ],
   "source": [
    "sum(l[1:2])"
   ]
  },
  {
   "cell_type": "code",
   "execution_count": 17,
   "metadata": {},
   "outputs": [
    {
     "data": {
      "text/plain": [
       "(2305536, 22)"
      ]
     },
     "execution_count": 17,
     "metadata": {},
     "output_type": "execute_result"
    }
   ],
   "source": [
    "np.fft.fft(df).shape"
   ]
  }
 ],
 "metadata": {
  "kernelspec": {
   "display_name": "Python 3",
   "language": "python",
   "name": "python3"
  },
  "language_info": {
   "codemirror_mode": {
    "name": "ipython",
    "version": 3
   },
   "file_extension": ".py",
   "mimetype": "text/x-python",
   "name": "python",
   "nbconvert_exporter": "python",
   "pygments_lexer": "ipython3",
   "version": "3.9.12"
  }
 },
 "nbformat": 4,
 "nbformat_minor": 4
}
