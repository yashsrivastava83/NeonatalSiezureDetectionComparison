{
 "cells": [
  {
   "cell_type": "code",
   "execution_count": 16,
   "metadata": {},
   "outputs": [],
   "source": [
    "import pandas as pd"
   ]
  },
  {
   "cell_type": "code",
   "execution_count": 17,
   "metadata": {},
   "outputs": [
    {
     "data": {
      "text/html": [
       "<div>\n",
       "<style scoped>\n",
       "    .dataframe tbody tr th:only-of-type {\n",
       "        vertical-align: middle;\n",
       "    }\n",
       "\n",
       "    .dataframe tbody tr th {\n",
       "        vertical-align: top;\n",
       "    }\n",
       "\n",
       "    .dataframe thead th {\n",
       "        text-align: right;\n",
       "    }\n",
       "</style>\n",
       "<table border=\"1\" class=\"dataframe\">\n",
       "  <thead>\n",
       "    <tr style=\"text-align: right;\">\n",
       "      <th></th>\n",
       "      <th>Signal</th>\n",
       "      <th>Mean (µV)</th>\n",
       "      <th>RMS (µV)</th>\n",
       "      <th>MRS (µV)</th>\n",
       "      <th>Zero Crossings</th>\n",
       "      <th>Frequency (Hz)</th>\n",
       "      <th>Delta (µV² /Hz)</th>\n",
       "      <th>Theta (µV² /Hz)</th>\n",
       "      <th>Alpha (µV² /Hz)</th>\n",
       "      <th>Beta (µV² /Hz)</th>\n",
       "      <th>Gamma (µV² /Hz)</th>\n",
       "      <th>Label</th>\n",
       "    </tr>\n",
       "  </thead>\n",
       "  <tbody>\n",
       "    <tr>\n",
       "      <th>0</th>\n",
       "      <td>e1.1</td>\n",
       "      <td>-111.543263</td>\n",
       "      <td>165.326922</td>\n",
       "      <td>137.464510</td>\n",
       "      <td>6</td>\n",
       "      <td>3.0</td>\n",
       "      <td>13.871195</td>\n",
       "      <td>0.216515</td>\n",
       "      <td>0.157400</td>\n",
       "      <td>0.471267</td>\n",
       "      <td>0.360638</td>\n",
       "      <td>0</td>\n",
       "    </tr>\n",
       "    <tr>\n",
       "      <th>1</th>\n",
       "      <td>e1.2</td>\n",
       "      <td>-85.046038</td>\n",
       "      <td>140.633143</td>\n",
       "      <td>111.886389</td>\n",
       "      <td>6</td>\n",
       "      <td>3.0</td>\n",
       "      <td>5.126801</td>\n",
       "      <td>0.176441</td>\n",
       "      <td>0.151454</td>\n",
       "      <td>0.471898</td>\n",
       "      <td>0.364846</td>\n",
       "      <td>0</td>\n",
       "    </tr>\n",
       "    <tr>\n",
       "      <th>2</th>\n",
       "      <td>e1.3</td>\n",
       "      <td>-46.838299</td>\n",
       "      <td>126.812428</td>\n",
       "      <td>85.819704</td>\n",
       "      <td>16</td>\n",
       "      <td>8.0</td>\n",
       "      <td>1.261876</td>\n",
       "      <td>0.181805</td>\n",
       "      <td>0.161871</td>\n",
       "      <td>0.472354</td>\n",
       "      <td>0.372668</td>\n",
       "      <td>0</td>\n",
       "    </tr>\n",
       "    <tr>\n",
       "      <th>3</th>\n",
       "      <td>e1.4</td>\n",
       "      <td>-47.013536</td>\n",
       "      <td>143.652350</td>\n",
       "      <td>91.850550</td>\n",
       "      <td>7</td>\n",
       "      <td>3.5</td>\n",
       "      <td>0.899144</td>\n",
       "      <td>0.212408</td>\n",
       "      <td>0.298429</td>\n",
       "      <td>0.738894</td>\n",
       "      <td>0.501854</td>\n",
       "      <td>0</td>\n",
       "    </tr>\n",
       "    <tr>\n",
       "      <th>4</th>\n",
       "      <td>e1.5</td>\n",
       "      <td>-15.339653</td>\n",
       "      <td>113.011520</td>\n",
       "      <td>53.273050</td>\n",
       "      <td>24</td>\n",
       "      <td>12.0</td>\n",
       "      <td>0.423585</td>\n",
       "      <td>0.195163</td>\n",
       "      <td>0.150992</td>\n",
       "      <td>0.484105</td>\n",
       "      <td>0.371071</td>\n",
       "      <td>0</td>\n",
       "    </tr>\n",
       "    <tr>\n",
       "      <th>...</th>\n",
       "      <td>...</td>\n",
       "      <td>...</td>\n",
       "      <td>...</td>\n",
       "      <td>...</td>\n",
       "      <td>...</td>\n",
       "      <td>...</td>\n",
       "      <td>...</td>\n",
       "      <td>...</td>\n",
       "      <td>...</td>\n",
       "      <td>...</td>\n",
       "      <td>...</td>\n",
       "      <td>...</td>\n",
       "    </tr>\n",
       "    <tr>\n",
       "      <th>775</th>\n",
       "      <td>e47.1.16</td>\n",
       "      <td>-492.032900</td>\n",
       "      <td>791.292300</td>\n",
       "      <td>693.099200</td>\n",
       "      <td>3</td>\n",
       "      <td>1.5</td>\n",
       "      <td>34.918747</td>\n",
       "      <td>2.114091</td>\n",
       "      <td>0.244951</td>\n",
       "      <td>0.139495</td>\n",
       "      <td>0.062960</td>\n",
       "      <td>1</td>\n",
       "    </tr>\n",
       "    <tr>\n",
       "      <th>776</th>\n",
       "      <td>e47.1.17</td>\n",
       "      <td>-255.891500</td>\n",
       "      <td>455.610800</td>\n",
       "      <td>378.904600</td>\n",
       "      <td>4</td>\n",
       "      <td>2.0</td>\n",
       "      <td>15.347951</td>\n",
       "      <td>1.263933</td>\n",
       "      <td>0.188982</td>\n",
       "      <td>0.112097</td>\n",
       "      <td>0.051938</td>\n",
       "      <td>1</td>\n",
       "    </tr>\n",
       "    <tr>\n",
       "      <th>777</th>\n",
       "      <td>e47.1.18</td>\n",
       "      <td>224.316200</td>\n",
       "      <td>619.768200</td>\n",
       "      <td>541.530000</td>\n",
       "      <td>8</td>\n",
       "      <td>4.0</td>\n",
       "      <td>24.577597</td>\n",
       "      <td>0.953114</td>\n",
       "      <td>0.249922</td>\n",
       "      <td>0.139794</td>\n",
       "      <td>0.061432</td>\n",
       "      <td>1</td>\n",
       "    </tr>\n",
       "    <tr>\n",
       "      <th>778</th>\n",
       "      <td>e47.1.19</td>\n",
       "      <td>-164.945500</td>\n",
       "      <td>986.025200</td>\n",
       "      <td>798.400200</td>\n",
       "      <td>4</td>\n",
       "      <td>2.0</td>\n",
       "      <td>31.002390</td>\n",
       "      <td>1.905827</td>\n",
       "      <td>0.262337</td>\n",
       "      <td>0.121908</td>\n",
       "      <td>0.053995</td>\n",
       "      <td>1</td>\n",
       "    </tr>\n",
       "    <tr>\n",
       "      <th>779</th>\n",
       "      <td>e47.1.20</td>\n",
       "      <td>-385.829500</td>\n",
       "      <td>1501.861800</td>\n",
       "      <td>1148.949700</td>\n",
       "      <td>3</td>\n",
       "      <td>1.5</td>\n",
       "      <td>63.294042</td>\n",
       "      <td>3.625288</td>\n",
       "      <td>0.130177</td>\n",
       "      <td>0.113923</td>\n",
       "      <td>0.049579</td>\n",
       "      <td>1</td>\n",
       "    </tr>\n",
       "  </tbody>\n",
       "</table>\n",
       "<p>780 rows × 12 columns</p>\n",
       "</div>"
      ],
      "text/plain": [
       "       Signal   Mean (µV)     RMS (µV)     MRS (µV)  Zero Crossings  \\\n",
       "0        e1.1 -111.543263   165.326922   137.464510               6   \n",
       "1        e1.2  -85.046038   140.633143   111.886389               6   \n",
       "2        e1.3  -46.838299   126.812428    85.819704              16   \n",
       "3        e1.4  -47.013536   143.652350    91.850550               7   \n",
       "4        e1.5  -15.339653   113.011520    53.273050              24   \n",
       "..        ...         ...          ...          ...             ...   \n",
       "775  e47.1.16 -492.032900   791.292300   693.099200               3   \n",
       "776  e47.1.17 -255.891500   455.610800   378.904600               4   \n",
       "777  e47.1.18  224.316200   619.768200   541.530000               8   \n",
       "778  e47.1.19 -164.945500   986.025200   798.400200               4   \n",
       "779  e47.1.20 -385.829500  1501.861800  1148.949700               3   \n",
       "\n",
       "     Frequency (Hz)  Delta (µV² /Hz)  Theta (µV² /Hz)  Alpha (µV² /Hz)  \\\n",
       "0               3.0        13.871195         0.216515         0.157400   \n",
       "1               3.0         5.126801         0.176441         0.151454   \n",
       "2               8.0         1.261876         0.181805         0.161871   \n",
       "3               3.5         0.899144         0.212408         0.298429   \n",
       "4              12.0         0.423585         0.195163         0.150992   \n",
       "..              ...              ...              ...              ...   \n",
       "775             1.5        34.918747         2.114091         0.244951   \n",
       "776             2.0        15.347951         1.263933         0.188982   \n",
       "777             4.0        24.577597         0.953114         0.249922   \n",
       "778             2.0        31.002390         1.905827         0.262337   \n",
       "779             1.5        63.294042         3.625288         0.130177   \n",
       "\n",
       "     Beta (µV² /Hz)  Gamma (µV² /Hz)  Label  \n",
       "0          0.471267         0.360638      0  \n",
       "1          0.471898         0.364846      0  \n",
       "2          0.472354         0.372668      0  \n",
       "3          0.738894         0.501854      0  \n",
       "4          0.484105         0.371071      0  \n",
       "..              ...              ...    ...  \n",
       "775        0.139495         0.062960      1  \n",
       "776        0.112097         0.051938      1  \n",
       "777        0.139794         0.061432      1  \n",
       "778        0.121908         0.053995      1  \n",
       "779        0.113923         0.049579      1  \n",
       "\n",
       "[780 rows x 12 columns]"
      ]
     },
     "execution_count": 17,
     "metadata": {},
     "output_type": "execute_result"
    }
   ],
   "source": [
    "training = pd.read_csv('Combined-780 - Sheet1.csv')\n",
    "training"
   ]
  },
  {
   "cell_type": "code",
   "execution_count": 18,
   "metadata": {},
   "outputs": [],
   "source": [
    "X_train = training.drop(columns=['Signal','Label'])\n",
    "y_train = training['Label']"
   ]
  },
  {
   "cell_type": "code",
   "execution_count": 19,
   "metadata": {},
   "outputs": [
    {
     "data": {
      "text/plain": [
       "(780, 10)"
      ]
     },
     "execution_count": 19,
     "metadata": {},
     "output_type": "execute_result"
    }
   ],
   "source": [
    "from sklearn import preprocessing as pre\n",
    "X_train_scaled = pre.scale(X_train)\n",
    "X_train_scaled.shape"
   ]
  },
  {
   "cell_type": "code",
   "execution_count": 34,
   "metadata": {},
   "outputs": [],
   "source": [
    "X_test = test.drop(columns=['Signal','Label'])\n",
    "y_test = test['Label'][20:30]\n",
    "X_test_scaled = pre.scale(X_test)[20:30]"
   ]
  },
  {
   "cell_type": "code",
   "execution_count": 21,
   "metadata": {},
   "outputs": [
    {
     "data": {
      "text/plain": [
       "(780, 10)"
      ]
     },
     "execution_count": 21,
     "metadata": {},
     "output_type": "execute_result"
    }
   ],
   "source": [
    "X_test.shape"
   ]
  },
  {
   "cell_type": "code",
   "execution_count": 22,
   "metadata": {},
   "outputs": [
    {
     "data": {
      "text/plain": [
       "(780, 10)"
      ]
     },
     "execution_count": 22,
     "metadata": {},
     "output_type": "execute_result"
    }
   ],
   "source": [
    "X_train_scaled.shape"
   ]
  },
  {
   "cell_type": "code",
   "execution_count": 23,
   "metadata": {},
   "outputs": [
    {
     "data": {
      "text/plain": [
       "False"
      ]
     },
     "execution_count": 23,
     "metadata": {},
     "output_type": "execute_result"
    }
   ],
   "source": [
    "import numpy as np\n",
    "np.isnan(X_train_scaled).any()\n",
    "# np.where(X_train.values >= np.finfo(np.float64).max)"
   ]
  },
  {
   "cell_type": "code",
   "execution_count": 24,
   "metadata": {},
   "outputs": [
    {
     "data": {
      "text/plain": [
       "Index(['Mean (µV)', 'RMS (µV)', 'MRS (µV)', 'Zero Crossings', 'Frequency (Hz)',\n",
       "       'Delta (µV² /Hz)', 'Theta (µV² /Hz)', 'Alpha (µV² /Hz)',\n",
       "       'Beta (µV² /Hz)', 'Gamma (µV² /Hz)'],\n",
       "      dtype='object')"
      ]
     },
     "execution_count": 24,
     "metadata": {},
     "output_type": "execute_result"
    }
   ],
   "source": [
    "X_train.columns"
   ]
  },
  {
   "cell_type": "code",
   "execution_count": 25,
   "metadata": {},
   "outputs": [],
   "source": [
    "# import numpy as np\n",
    "# from sklearn.model_selection import KFold\n",
    "\n",
    "# kf = KFold(n_splits=10)\n",
    "# for train_index, test_index in kf.split(X):\n",
    "#     print(\"%s %s\" % (train_index, test_index))\n",
    "#     X_train, X_test = X[train_index], X[test_index]\n",
    "#     y_train, y_test = y[train_index], y[test_index]"
   ]
  },
  {
   "cell_type": "code",
   "execution_count": 26,
   "metadata": {},
   "outputs": [
    {
     "name": "stdout",
     "output_type": "stream",
     "text": [
      "Confusion Matrix : \n",
      " [[9 1]\n",
      " [0 0]]\n",
      "Accuracy :  0.9\n",
      "Sensitivity :  0.9\n",
      "Specificity :  nan\n"
     ]
    },
    {
     "name": "stderr",
     "output_type": "stream",
     "text": [
      "C:\\Users\\Yash Srivastava\\AppData\\Local\\Temp\\ipykernel_3212\\1624536295.py:17: RuntimeWarning: invalid value encountered in scalar divide\n",
      "  specificity1 = cm1[1,1]/(cm1[1,0]+cm1[1,1])\n"
     ]
    }
   ],
   "source": [
    "from sklearn.metrics import confusion_matrix\n",
    "from sklearn import svm\n",
    "model = svm.SVC().fit(X_train_scaled, y_train)\n",
    "model.score(X_test_scaled, y_test)\n",
    "y_pred = model.predict(X_test_scaled)\n",
    "cm1 = confusion_matrix(y_test, y_pred)\n",
    "print('Confusion Matrix : \\n', cm1)\n",
    "\n",
    "total1=sum(sum(cm1))\n",
    "#####from confusion matrix calculate accuracy\n",
    "accuracy1=(cm1[0,0]+cm1[1,1])/total1\n",
    "print ('Accuracy : ', accuracy1)\n",
    "\n",
    "sensitivity1 = cm1[0,0]/(cm1[0,0]+cm1[0,1])\n",
    "print('Sensitivity : ', sensitivity1 )\n",
    "\n",
    "specificity1 = cm1[1,1]/(cm1[1,0]+cm1[1,1])\n",
    "print('Specificity : ', specificity1)"
   ]
  },
  {
   "cell_type": "code",
   "execution_count": 27,
   "metadata": {},
   "outputs": [
    {
     "name": "stdout",
     "output_type": "stream",
     "text": [
      "Confusion Matrix : \n",
      " [[9 1]\n",
      " [0 0]]\n",
      "Accuracy :  0.9\n",
      "Sensitivity :  0.9\n",
      "Specificity :  nan\n"
     ]
    },
    {
     "name": "stderr",
     "output_type": "stream",
     "text": [
      "C:\\Users\\Yash Srivastava\\AppData\\Local\\Temp\\ipykernel_3212\\3609656283.py:17: RuntimeWarning: invalid value encountered in scalar divide\n",
      "  specificity1 = cm1[1,1]/(cm1[1,0]+cm1[1,1])\n"
     ]
    }
   ],
   "source": [
    "from sklearn.neighbors import KNeighborsClassifier\n",
    "knn = KNeighborsClassifier(n_neighbors=10).fit(X_train_scaled, y_train)\n",
    "knn.score(X_test_scaled, y_test)\n",
    "y_pred = knn.predict(X_test_scaled)\n",
    "cm1 = confusion_matrix(y_test, y_pred)\n",
    "# cm1 = confusion_matrix(Fiber_df[['active_cust']],predicted_class1)\n",
    "print('Confusion Matrix : \\n', cm1)\n",
    "\n",
    "total1=sum(sum(cm1))\n",
    "#####from confusion matrix calculate accuracy\n",
    "accuracy1=(cm1[0,0]+cm1[1,1])/total1\n",
    "print ('Accuracy : ', accuracy1)\n",
    "\n",
    "sensitivity1 = cm1[0,0]/(cm1[0,0]+cm1[0,1])\n",
    "print('Sensitivity : ', sensitivity1 )\n",
    "\n",
    "specificity1 = cm1[1,1]/(cm1[1,0]+cm1[1,1])\n",
    "print('Specificity : ', specificity1)"
   ]
  },
  {
   "cell_type": "code",
   "execution_count": 28,
   "metadata": {},
   "outputs": [
    {
     "name": "stdout",
     "output_type": "stream",
     "text": [
      "0.7\n",
      "Confusion Matrix : \n",
      " [[7 3]\n",
      " [0 0]]\n",
      "Accuracy :  0.7\n",
      "Sensitivity :  0.7\n",
      "Specificity :  nan\n"
     ]
    },
    {
     "name": "stderr",
     "output_type": "stream",
     "text": [
      "C:\\Users\\Yash Srivastava\\AppData\\Local\\Temp\\ipykernel_3212\\4120903834.py:17: RuntimeWarning: invalid value encountered in scalar divide\n",
      "  specificity1 = cm1[1,1]/(cm1[1,0]+cm1[1,1])\n"
     ]
    }
   ],
   "source": [
    "from sklearn.linear_model import LogisticRegression\n",
    "mod = LogisticRegression(random_state=0,max_iter=1000).fit(X_train_scaled, y_train)\n",
    "print(mod.score(X_test_scaled, y_test))\n",
    "y_pred = mod.predict(X_test_scaled)\n",
    "cm1 = confusion_matrix(y_test, y_pred)\n",
    "# cm1 = confusion_matrix(Fiber_df[['active_cust']],predicted_class1)\n",
    "print('Confusion Matrix : \\n', cm1)\n",
    "\n",
    "total1=sum(sum(cm1))\n",
    "#####from confusion matrix calculate accuracy\n",
    "accuracy1=(cm1[0,0]+cm1[1,1])/total1\n",
    "print ('Accuracy : ', accuracy1)\n",
    "\n",
    "sensitivity1 = cm1[0,0]/(cm1[0,0]+cm1[0,1])\n",
    "print('Sensitivity : ', sensitivity1 )\n",
    "\n",
    "specificity1 = cm1[1,1]/(cm1[1,0]+cm1[1,1])\n",
    "print('Specificity : ', specificity1)"
   ]
  },
  {
   "cell_type": "code",
   "execution_count": 29,
   "metadata": {},
   "outputs": [
    {
     "data": {
      "text/plain": [
       "1.0"
      ]
     },
     "execution_count": 29,
     "metadata": {},
     "output_type": "execute_result"
    }
   ],
   "source": [
    "from sklearn import tree\n",
    "clf = tree.DecisionTreeClassifier()\n",
    "clf = clf.fit(X_train_scaled, y_train)\n",
    "clf.score(X_test_scaled, y_test)\n",
    "# y_pred = clf.predict(X_test)\n",
    "# cm1 = confusion_matrix(y_test, y_pred)\n",
    "# # cm1 = confusion_matrix(Fiber_df[['active_cust']],predicted_class1)\n",
    "# print('Confusion Matrix : \\n', cm1)\n",
    "\n",
    "# print(clf.score(X_test, y_test))\n",
    "# total1=sum(sum(cm1))\n",
    "# #####from confusion matrix calculate accuracy\n",
    "# accuracy1=(cm1[0,0]+cm1[1,1])/total1\n",
    "# print ('Accuracy : ', accuracy1)\n",
    "\n",
    "# sensitivity1 = cm1[0,0]/(cm1[0,0]+cm1[0,1])\n",
    "# print('Sensitivity : ', sensitivity1 )\n",
    "\n",
    "# specificity1 = cm1[1,1]/(cm1[1,0]+cm1[1,1])\n",
    "# print('Specificity : ', specificity1)\n",
    "# print(clf.max_depth)"
   ]
  },
  {
   "cell_type": "code",
   "execution_count": 30,
   "metadata": {},
   "outputs": [],
   "source": [
    "# 70.99 - dtree - varies a lot\n",
    "# 60.99 - lr - fixed\n",
    "# 63 - knn - fixed\n",
    "# 40 - svm - fixed"
   ]
  },
  {
   "cell_type": "code",
   "execution_count": 31,
   "metadata": {},
   "outputs": [
    {
     "name": "stdout",
     "output_type": "stream",
     "text": [
      "Confusion Matrix : \n",
      " [[9 1]\n",
      " [0 0]]\n",
      "Accuracy :  0.9\n",
      "Sensitivity :  0.9\n",
      "Specificity :  nan\n"
     ]
    },
    {
     "name": "stderr",
     "output_type": "stream",
     "text": [
      "C:\\Users\\Yash Srivastava\\AppData\\Local\\Temp\\ipykernel_3212\\489008940.py:17: RuntimeWarning: invalid value encountered in scalar divide\n",
      "  specificity1 = cm1[1,1]/(cm1[1,0]+cm1[1,1])\n"
     ]
    }
   ],
   "source": [
    "from sklearn.neural_network import MLPClassifier\n",
    "clf = MLPClassifier(random_state=0, max_iter=2000).fit(X_train_scaled, y_train)\n",
    "clf.score(X_test_scaled, y_test)\n",
    "y_pred = clf.predict(X_test_scaled)\n",
    "cm1 = confusion_matrix(y_test, y_pred)\n",
    "# cm1 = confusion_matrix(Fiber_df[['active_cust']],predicted_class1)\n",
    "print('Confusion Matrix : \\n', cm1)\n",
    "\n",
    "total1=sum(sum(cm1))\n",
    "#####from confusion matrix calculate accuracy\n",
    "accuracy1=(cm1[0,0]+cm1[1,1])/total1\n",
    "print ('Accuracy : ', accuracy1)\n",
    "\n",
    "sensitivity1 = cm1[0,0]/(cm1[0,0]+cm1[0,1])\n",
    "print('Sensitivity : ', sensitivity1 )\n",
    "\n",
    "specificity1 = cm1[1,1]/(cm1[1,0]+cm1[1,1])\n",
    "print('Specificity : ', specificity1)"
   ]
  },
  {
   "cell_type": "code",
   "execution_count": 32,
   "metadata": {},
   "outputs": [
    {
     "data": {
      "text/plain": [
       "(780, 2)"
      ]
     },
     "execution_count": 32,
     "metadata": {},
     "output_type": "execute_result"
    }
   ],
   "source": [
    "X_train_scaled[:,:2].shape"
   ]
  },
  {
   "cell_type": "code",
   "execution_count": 33,
   "metadata": {},
   "outputs": [],
   "source": [
    "# import numpy as np\n",
    "# import matplotlib.pyplot as plt\n",
    "# from matplotlib.colors import ListedColormap\n",
    "# from sklearn import neighbors, datasets\n",
    "\n",
    "# n_neighbors = 10\n",
    "\n",
    "# # import some data to play with\n",
    "# # iris = datasets.load_iris()\n",
    "\n",
    "# # we only take the first two features. We could avoid this ugly\n",
    "# # slicing by using a two-dim dataset\n",
    "# # X = iris.data[:, :2]\n",
    "# # y = iris.target\n",
    "\n",
    "# X = X_train_scaled\n",
    "# y = y_train\n",
    "\n",
    "# h = .02  # step size in the mesh\n",
    "\n",
    "# # Create color maps\n",
    "# cmap_light = ListedColormap(['orange', 'cyan', 'cornflowerblue'])\n",
    "# cmap_bold = ListedColormap(['darkorange', 'c', 'darkblue'])\n",
    "\n",
    "# for weights in ['uniform', 'distance']:\n",
    "#     # we create an instance of Neighbours Classifier and fit the data.\n",
    "#     clf = neighbors.KNeighborsClassifier(n_neighbors, weights=weights)\n",
    "#     clf.fit(X, y)\n",
    "\n",
    "#     # Plot the decision boundary. For that, we will assign a color to each\n",
    "#     # point in the mesh [x_min, x_max]x[y_min, y_max].\n",
    "#     x_min, x_max = X[:, 0].min() - 1, X[:, 0].max() + 1\n",
    "#     y_min, y_max = X[:, 1].min() - 1, X[:, 1].max() + 1\n",
    "#     xx, yy = np.meshgrid(np.arange(x_min, x_max, h),\n",
    "#                          np.arange(y_min, y_max, h))\n",
    "#     Z = clf.predict(np.c_[xx.ravel(), yy.ravel()])\n",
    "\n",
    "#     # Put the result into a color plot\n",
    "#     Z = Z.reshape(xx.shape)\n",
    "#     plt.figure()\n",
    "#     plt.pcolormesh(xx, yy, Z, cmap=cmap_light)\n",
    "\n",
    "#     # Plot also the training points\n",
    "#     plt.scatter(X[:, 0], X[:, 1], c=y, cmap=cmap_bold,\n",
    "#                 edgecolor='k', s=20)\n",
    "#     plt.xlim(xx.min(), xx.max())\n",
    "#     plt.ylim(yy.min(), yy.max())\n",
    "#     plt.title(\"2-Class classification (k = %i, weights = '%s')\"\n",
    "#               % (n_neighbors, weights))\n",
    "\n",
    "# plt.show()"
   ]
  }
 ],
 "metadata": {
  "kernelspec": {
   "display_name": "Python 3",
   "language": "python",
   "name": "python3"
  },
  "language_info": {
   "codemirror_mode": {
    "name": "ipython",
    "version": 3
   },
   "file_extension": ".py",
   "mimetype": "text/x-python",
   "name": "python",
   "nbconvert_exporter": "python",
   "pygments_lexer": "ipython3",
   "version": "3.9.12"
  }
 },
 "nbformat": 4,
 "nbformat_minor": 4
}
