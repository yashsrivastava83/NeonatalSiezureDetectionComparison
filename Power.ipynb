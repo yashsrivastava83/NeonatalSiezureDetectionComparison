{
 "cells": [
  {
   "cell_type": "code",
   "execution_count": 5,
   "metadata": {},
   "outputs": [],
   "source": [
    "import numpy as np\n",
    "import pandas as pd\n",
    "import mne"
   ]
  },
  {
   "cell_type": "code",
   "execution_count": 6,
   "metadata": {},
   "outputs": [
    {
     "name": "stdout",
     "output_type": "stream",
     "text": [
      "Extracting EDF parameters from D:\\Brain_siez_det\\eegfiles\\eeg34.edf...\n",
      "EDF file detected\n",
      "Setting channel info structure...\n",
      "Creating raw.info structure...\n",
      "Reading 0 ... 1661695  =      0.000 ...  6490.996 secs...\n"
     ]
    },
    {
     "name": "stderr",
     "output_type": "stream",
     "text": [
      "C:\\Users\\Yash Srivastava\\AppData\\Local\\Temp\\ipykernel_15688\\2753245186.py:1: RuntimeWarning: Channels contain different highpass filters. Highest filter setting will be stored.\n",
      "  data = mne.io.read_raw_edf('D:\\Brain_siez_det\\eegfiles\\eeg34.edf', preload=True)\n",
      "C:\\Users\\Yash Srivastava\\AppData\\Local\\Temp\\ipykernel_15688\\2753245186.py:1: RuntimeWarning: Channels contain different lowpass filters. Lowest filter setting will be stored.\n",
      "  data = mne.io.read_raw_edf('D:\\Brain_siez_det\\eegfiles\\eeg34.edf', preload=True)\n"
     ]
    }
   ],
   "source": [
    "data = mne.io.read_raw_edf('D:\\Brain_siez_det\\eegfiles\\eeg34.edf', preload=True)"
   ]
  },
  {
   "cell_type": "code",
   "execution_count": 7,
   "metadata": {},
   "outputs": [
    {
     "data": {
      "text/plain": [
       "pandas.core.frame.DataFrame"
      ]
     },
     "execution_count": 7,
     "metadata": {},
     "output_type": "execute_result"
    }
   ],
   "source": [
    "df = data.to_data_frame()\n",
    "type(df)"
   ]
  },
  {
   "cell_type": "code",
   "execution_count": 8,
   "metadata": {},
   "outputs": [
    {
     "data": {
      "text/plain": [
       "1661696"
      ]
     },
     "execution_count": 8,
     "metadata": {},
     "output_type": "execute_result"
    }
   ],
   "source": [
    "df_np = data[:][0]\n",
    "df_np.shape[1]"
   ]
  },
  {
   "cell_type": "code",
   "execution_count": 9,
   "metadata": {},
   "outputs": [],
   "source": [
    "# C = np.fft.fftn(df_np)\n",
    "# sum(C[0:10]).shape"
   ]
  },
  {
   "cell_type": "code",
   "execution_count": 10,
   "metadata": {},
   "outputs": [],
   "source": [
    "import numpy as np\n",
    "fs = 256\n",
    "# data in numpy format\n",
    "\n",
    "eeg_bands = {'Delta': (0, 4),\n",
    "                 'Theta': (4, 8),\n",
    "                 'Alpha': (8, 12),\n",
    "                 'Beta': (12, 30),\n",
    "                 'Gamma': (30, 45)}\n",
    "def psd(data):\n",
    "    fs = 256                                \n",
    "    N = data.shape[1] # total num of points \n",
    "    print(N)\n",
    "\n",
    "    # Get real amplitudes of FFT (only in postive frequencies)\n",
    "    fft_vals = np.absolute(np.fft.rfft(data))\n",
    "\n",
    "    # FORMULA from some online post\n",
    "    # psd_vals = (1/(fs*N)) * xdft * xdft;\n",
    "\n",
    "    n_rows = fft_vals.shape[0]\n",
    "    n_cols = fft_vals.shape[1]\n",
    "    psd_vals = np.zeros(shape=(n_rows, n_cols))\n",
    "\n",
    "    for i in range(n_rows):\n",
    "        for j in range(n_cols):\n",
    "            psd_vals[i][j] = (N/fs) * fft_vals[i][j] * fft_vals[i][j];\n",
    "\n",
    "    print(psd_vals.shape)\n",
    "\n",
    "    # Get frequencies for amplitudes in Hz\n",
    "    fft_freq = np.fft.rfftfreq(data.shape[1], 1.0/fs)\n",
    "\n",
    "    # Define EEG bands\n",
    "    eeg_bands = {'Delta': (0, 4),\n",
    "                 'Theta': (4, 8),\n",
    "                 'Alpha': (8, 12),\n",
    "                 'Beta': (12, 30),\n",
    "                 'Gamma': (30, 45)}\n",
    "\n",
    "    # Take the mean of the fft amplitude for each EEG band\n",
    "    eeg_band_fft = dict()\n",
    "    for band in eeg_bands:  \n",
    "        freq_ix = np.where((fft_freq >= eeg_bands[band][0]) & \n",
    "                           (fft_freq <= eeg_bands[band][1]))[0]\n",
    "        eeg_band_fft[band] = np.mean(psd_vals[:,freq_ix])\n",
    "    return eeg_band_fft\n",
    "\n",
    "    # Plot the data (using pandas here cause it's easy)\n",
    "#     import pandas as pd\n",
    "#     df = pd.DataFrame(columns=['band', 'val'])\n",
    "#     df['band'] = eeg_bands.keys()\n",
    "#     df['val'] = [eeg_band_fft[band] for band in eeg_bands]\n",
    "#     ax = df.plot.bar(x='band', y='val', legend=False)\n",
    "#     ax.set_xlabel(\"EEG band\")\n",
    "#     ax.set_ylabel(\"Mean PSD\")\n",
    "\n",
    "#     for band in eeg_bands:\n",
    "#         print(eeg_band_fft[band])"
   ]
  },
  {
   "cell_type": "code",
   "execution_count": 11,
   "metadata": {},
   "outputs": [],
   "source": [
    "import csv"
   ]
  },
  {
   "cell_type": "code",
   "execution_count": 13,
   "metadata": {},
   "outputs": [
    {
     "name": "stdout",
     "output_type": "stream",
     "text": [
      "Extracting EDF parameters from D:\\Brain_siez_det\\eegfiles\\eeg34.edf...\n",
      "EDF file detected\n",
      "Setting channel info structure...\n",
      "Creating raw.info structure...\n",
      "Reading 0 ... 1661695  =      0.000 ...  6490.996 secs...\n"
     ]
    },
    {
     "name": "stderr",
     "output_type": "stream",
     "text": [
      "C:\\Users\\Yash Srivastava\\AppData\\Local\\Temp\\ipykernel_15688\\1489453353.py:1: RuntimeWarning: Channels contain different highpass filters. Highest filter setting will be stored.\n",
      "  data = mne.io.read_raw_edf('D:\\Brain_siez_det\\eegfiles\\eeg34.edf', preload=True)\n",
      "C:\\Users\\Yash Srivastava\\AppData\\Local\\Temp\\ipykernel_15688\\1489453353.py:1: RuntimeWarning: Channels contain different lowpass filters. Lowest filter setting will be stored.\n",
      "  data = mne.io.read_raw_edf('D:\\Brain_siez_det\\eegfiles\\eeg34.edf', preload=True)\n"
     ]
    },
    {
     "name": "stdout",
     "output_type": "stream",
     "text": [
      "1661696\n",
      "(21, 830849)\n",
      "770018011.459258\n",
      "206930548.73943967\n",
      "70891197.35478392\n",
      "42561500.956099406\n",
      "9286981.482002426\n"
     ]
    }
   ],
   "source": [
    "data = mne.io.read_raw_edf('D:\\Brain_siez_det\\eegfiles\\eeg34.edf', preload=True)\n",
    "data = data[:][0]\n",
    "psd_vals = psd(data)\n",
    "for val in psd_vals:\n",
    "    print(psd_vals[val] * 1000000)"
   ]
  },
  {
   "cell_type": "code",
   "execution_count": 15,
   "metadata": {},
   "outputs": [
    {
     "name": "stdout",
     "output_type": "stream",
     "text": [
      "Extracting EDF parameters from D:\\Brain_siez_det\\eegfiles\\eeg34.edf...\n",
      "EDF file detected\n",
      "Setting channel info structure...\n",
      "Creating raw.info structure...\n",
      "Reading 0 ... 1661695  =      0.000 ...  6490.996 secs...\n"
     ]
    },
    {
     "name": "stderr",
     "output_type": "stream",
     "text": [
      "C:\\Users\\Yash Srivastava\\AppData\\Local\\Temp\\ipykernel_15688\\3540557239.py:5: RuntimeWarning: Channels contain different highpass filters. Highest filter setting will be stored.\n",
      "  data = mne.io.read_raw_edf('D:\\Brain_siez_det\\eegfiles\\eeg34.edf', preload=True)\n",
      "C:\\Users\\Yash Srivastava\\AppData\\Local\\Temp\\ipykernel_15688\\3540557239.py:5: RuntimeWarning: Channels contain different lowpass filters. Lowest filter setting will be stored.\n",
      "  data = mne.io.read_raw_edf('D:\\Brain_siez_det\\eegfiles\\eeg34.edf', preload=True)\n"
     ]
    },
    {
     "name": "stdout",
     "output_type": "stream",
     "text": [
      "1661696\n",
      "(21, 830849)\n",
      "Extracting EDF parameters from D:\\Brain_siez_det\\eegfiles\\eeg34.edf...\n",
      "EDF file detected\n",
      "Setting channel info structure...\n",
      "Creating raw.info structure...\n",
      "Reading 0 ... 1661695  =      0.000 ...  6490.996 secs...\n"
     ]
    },
    {
     "name": "stderr",
     "output_type": "stream",
     "text": [
      "C:\\Users\\Yash Srivastava\\AppData\\Local\\Temp\\ipykernel_15688\\3540557239.py:5: RuntimeWarning: Channels contain different highpass filters. Highest filter setting will be stored.\n",
      "  data = mne.io.read_raw_edf('D:\\Brain_siez_det\\eegfiles\\eeg34.edf', preload=True)\n",
      "C:\\Users\\Yash Srivastava\\AppData\\Local\\Temp\\ipykernel_15688\\3540557239.py:5: RuntimeWarning: Channels contain different lowpass filters. Lowest filter setting will be stored.\n",
      "  data = mne.io.read_raw_edf('D:\\Brain_siez_det\\eegfiles\\eeg34.edf', preload=True)\n"
     ]
    },
    {
     "name": "stdout",
     "output_type": "stream",
     "text": [
      "1661696\n",
      "(21, 830849)\n",
      "Extracting EDF parameters from D:\\Brain_siez_det\\eegfiles\\eeg34.edf...\n",
      "EDF file detected\n",
      "Setting channel info structure...\n",
      "Creating raw.info structure...\n",
      "Reading 0 ... 1661695  =      0.000 ...  6490.996 secs...\n"
     ]
    },
    {
     "name": "stderr",
     "output_type": "stream",
     "text": [
      "C:\\Users\\Yash Srivastava\\AppData\\Local\\Temp\\ipykernel_15688\\3540557239.py:5: RuntimeWarning: Channels contain different highpass filters. Highest filter setting will be stored.\n",
      "  data = mne.io.read_raw_edf('D:\\Brain_siez_det\\eegfiles\\eeg34.edf', preload=True)\n",
      "C:\\Users\\Yash Srivastava\\AppData\\Local\\Temp\\ipykernel_15688\\3540557239.py:5: RuntimeWarning: Channels contain different lowpass filters. Lowest filter setting will be stored.\n",
      "  data = mne.io.read_raw_edf('D:\\Brain_siez_det\\eegfiles\\eeg34.edf', preload=True)\n"
     ]
    },
    {
     "name": "stdout",
     "output_type": "stream",
     "text": [
      "1661696\n",
      "(21, 830849)\n",
      "Extracting EDF parameters from D:\\Brain_siez_det\\eegfiles\\eeg34.edf...\n",
      "EDF file detected\n",
      "Setting channel info structure...\n",
      "Creating raw.info structure...\n",
      "Reading 0 ... 1661695  =      0.000 ...  6490.996 secs...\n"
     ]
    },
    {
     "name": "stderr",
     "output_type": "stream",
     "text": [
      "C:\\Users\\Yash Srivastava\\AppData\\Local\\Temp\\ipykernel_15688\\3540557239.py:5: RuntimeWarning: Channels contain different highpass filters. Highest filter setting will be stored.\n",
      "  data = mne.io.read_raw_edf('D:\\Brain_siez_det\\eegfiles\\eeg34.edf', preload=True)\n",
      "C:\\Users\\Yash Srivastava\\AppData\\Local\\Temp\\ipykernel_15688\\3540557239.py:5: RuntimeWarning: Channels contain different lowpass filters. Lowest filter setting will be stored.\n",
      "  data = mne.io.read_raw_edf('D:\\Brain_siez_det\\eegfiles\\eeg34.edf', preload=True)\n"
     ]
    },
    {
     "name": "stdout",
     "output_type": "stream",
     "text": [
      "1661696\n",
      "(21, 830849)\n",
      "Extracting EDF parameters from D:\\Brain_siez_det\\eegfiles\\eeg34.edf...\n",
      "EDF file detected\n",
      "Setting channel info structure...\n",
      "Creating raw.info structure...\n",
      "Reading 0 ... 1661695  =      0.000 ...  6490.996 secs...\n"
     ]
    },
    {
     "name": "stderr",
     "output_type": "stream",
     "text": [
      "C:\\Users\\Yash Srivastava\\AppData\\Local\\Temp\\ipykernel_15688\\3540557239.py:5: RuntimeWarning: Channels contain different highpass filters. Highest filter setting will be stored.\n",
      "  data = mne.io.read_raw_edf('D:\\Brain_siez_det\\eegfiles\\eeg34.edf', preload=True)\n",
      "C:\\Users\\Yash Srivastava\\AppData\\Local\\Temp\\ipykernel_15688\\3540557239.py:5: RuntimeWarning: Channels contain different lowpass filters. Lowest filter setting will be stored.\n",
      "  data = mne.io.read_raw_edf('D:\\Brain_siez_det\\eegfiles\\eeg34.edf', preload=True)\n"
     ]
    },
    {
     "name": "stdout",
     "output_type": "stream",
     "text": [
      "1661696\n",
      "(21, 830849)\n",
      "Extracting EDF parameters from D:\\Brain_siez_det\\eegfiles\\eeg34.edf...\n",
      "EDF file detected\n",
      "Setting channel info structure...\n",
      "Creating raw.info structure...\n",
      "Reading 0 ... 1661695  =      0.000 ...  6490.996 secs...\n"
     ]
    },
    {
     "name": "stderr",
     "output_type": "stream",
     "text": [
      "C:\\Users\\Yash Srivastava\\AppData\\Local\\Temp\\ipykernel_15688\\3540557239.py:5: RuntimeWarning: Channels contain different highpass filters. Highest filter setting will be stored.\n",
      "  data = mne.io.read_raw_edf('D:\\Brain_siez_det\\eegfiles\\eeg34.edf', preload=True)\n",
      "C:\\Users\\Yash Srivastava\\AppData\\Local\\Temp\\ipykernel_15688\\3540557239.py:5: RuntimeWarning: Channels contain different lowpass filters. Lowest filter setting will be stored.\n",
      "  data = mne.io.read_raw_edf('D:\\Brain_siez_det\\eegfiles\\eeg34.edf', preload=True)\n"
     ]
    },
    {
     "name": "stdout",
     "output_type": "stream",
     "text": [
      "1661696\n",
      "(21, 830849)\n",
      "Extracting EDF parameters from D:\\Brain_siez_det\\eegfiles\\eeg34.edf...\n",
      "EDF file detected\n",
      "Setting channel info structure...\n",
      "Creating raw.info structure...\n",
      "Reading 0 ... 1661695  =      0.000 ...  6490.996 secs...\n"
     ]
    },
    {
     "name": "stderr",
     "output_type": "stream",
     "text": [
      "C:\\Users\\Yash Srivastava\\AppData\\Local\\Temp\\ipykernel_15688\\3540557239.py:5: RuntimeWarning: Channels contain different highpass filters. Highest filter setting will be stored.\n",
      "  data = mne.io.read_raw_edf('D:\\Brain_siez_det\\eegfiles\\eeg34.edf', preload=True)\n",
      "C:\\Users\\Yash Srivastava\\AppData\\Local\\Temp\\ipykernel_15688\\3540557239.py:5: RuntimeWarning: Channels contain different lowpass filters. Lowest filter setting will be stored.\n",
      "  data = mne.io.read_raw_edf('D:\\Brain_siez_det\\eegfiles\\eeg34.edf', preload=True)\n"
     ]
    },
    {
     "name": "stdout",
     "output_type": "stream",
     "text": [
      "1661696\n",
      "(21, 830849)\n",
      "Extracting EDF parameters from D:\\Brain_siez_det\\eegfiles\\eeg34.edf...\n",
      "EDF file detected\n",
      "Setting channel info structure...\n",
      "Creating raw.info structure...\n",
      "Reading 0 ... 1661695  =      0.000 ...  6490.996 secs...\n"
     ]
    },
    {
     "name": "stderr",
     "output_type": "stream",
     "text": [
      "C:\\Users\\Yash Srivastava\\AppData\\Local\\Temp\\ipykernel_15688\\3540557239.py:5: RuntimeWarning: Channels contain different highpass filters. Highest filter setting will be stored.\n",
      "  data = mne.io.read_raw_edf('D:\\Brain_siez_det\\eegfiles\\eeg34.edf', preload=True)\n",
      "C:\\Users\\Yash Srivastava\\AppData\\Local\\Temp\\ipykernel_15688\\3540557239.py:5: RuntimeWarning: Channels contain different lowpass filters. Lowest filter setting will be stored.\n",
      "  data = mne.io.read_raw_edf('D:\\Brain_siez_det\\eegfiles\\eeg34.edf', preload=True)\n"
     ]
    },
    {
     "name": "stdout",
     "output_type": "stream",
     "text": [
      "1661696\n",
      "(21, 830849)\n",
      "Extracting EDF parameters from D:\\Brain_siez_det\\eegfiles\\eeg34.edf...\n",
      "EDF file detected\n",
      "Setting channel info structure...\n",
      "Creating raw.info structure...\n",
      "Reading 0 ... 1661695  =      0.000 ...  6490.996 secs...\n"
     ]
    },
    {
     "name": "stderr",
     "output_type": "stream",
     "text": [
      "C:\\Users\\Yash Srivastava\\AppData\\Local\\Temp\\ipykernel_15688\\3540557239.py:5: RuntimeWarning: Channels contain different highpass filters. Highest filter setting will be stored.\n",
      "  data = mne.io.read_raw_edf('D:\\Brain_siez_det\\eegfiles\\eeg34.edf', preload=True)\n",
      "C:\\Users\\Yash Srivastava\\AppData\\Local\\Temp\\ipykernel_15688\\3540557239.py:5: RuntimeWarning: Channels contain different lowpass filters. Lowest filter setting will be stored.\n",
      "  data = mne.io.read_raw_edf('D:\\Brain_siez_det\\eegfiles\\eeg34.edf', preload=True)\n"
     ]
    },
    {
     "name": "stdout",
     "output_type": "stream",
     "text": [
      "1661696\n",
      "(21, 830849)\n",
      "Extracting EDF parameters from D:\\Brain_siez_det\\eegfiles\\eeg34.edf...\n",
      "EDF file detected\n",
      "Setting channel info structure...\n",
      "Creating raw.info structure...\n",
      "Reading 0 ... 1661695  =      0.000 ...  6490.996 secs...\n"
     ]
    },
    {
     "name": "stderr",
     "output_type": "stream",
     "text": [
      "C:\\Users\\Yash Srivastava\\AppData\\Local\\Temp\\ipykernel_15688\\3540557239.py:5: RuntimeWarning: Channels contain different highpass filters. Highest filter setting will be stored.\n",
      "  data = mne.io.read_raw_edf('D:\\Brain_siez_det\\eegfiles\\eeg34.edf', preload=True)\n",
      "C:\\Users\\Yash Srivastava\\AppData\\Local\\Temp\\ipykernel_15688\\3540557239.py:5: RuntimeWarning: Channels contain different lowpass filters. Lowest filter setting will be stored.\n",
      "  data = mne.io.read_raw_edf('D:\\Brain_siez_det\\eegfiles\\eeg34.edf', preload=True)\n"
     ]
    },
    {
     "name": "stdout",
     "output_type": "stream",
     "text": [
      "1661696\n",
      "(21, 830849)\n",
      "Extracting EDF parameters from D:\\Brain_siez_det\\eegfiles\\eeg34.edf...\n",
      "EDF file detected\n",
      "Setting channel info structure...\n",
      "Creating raw.info structure...\n",
      "Reading 0 ... 1661695  =      0.000 ...  6490.996 secs...\n"
     ]
    },
    {
     "name": "stderr",
     "output_type": "stream",
     "text": [
      "C:\\Users\\Yash Srivastava\\AppData\\Local\\Temp\\ipykernel_15688\\3540557239.py:5: RuntimeWarning: Channels contain different highpass filters. Highest filter setting will be stored.\n",
      "  data = mne.io.read_raw_edf('D:\\Brain_siez_det\\eegfiles\\eeg34.edf', preload=True)\n",
      "C:\\Users\\Yash Srivastava\\AppData\\Local\\Temp\\ipykernel_15688\\3540557239.py:5: RuntimeWarning: Channels contain different lowpass filters. Lowest filter setting will be stored.\n",
      "  data = mne.io.read_raw_edf('D:\\Brain_siez_det\\eegfiles\\eeg34.edf', preload=True)\n"
     ]
    },
    {
     "name": "stdout",
     "output_type": "stream",
     "text": [
      "1661696\n",
      "(21, 830849)\n",
      "Extracting EDF parameters from D:\\Brain_siez_det\\eegfiles\\eeg34.edf...\n",
      "EDF file detected\n",
      "Setting channel info structure...\n",
      "Creating raw.info structure...\n",
      "Reading 0 ... 1661695  =      0.000 ...  6490.996 secs...\n"
     ]
    },
    {
     "name": "stderr",
     "output_type": "stream",
     "text": [
      "C:\\Users\\Yash Srivastava\\AppData\\Local\\Temp\\ipykernel_15688\\3540557239.py:5: RuntimeWarning: Channels contain different highpass filters. Highest filter setting will be stored.\n",
      "  data = mne.io.read_raw_edf('D:\\Brain_siez_det\\eegfiles\\eeg34.edf', preload=True)\n",
      "C:\\Users\\Yash Srivastava\\AppData\\Local\\Temp\\ipykernel_15688\\3540557239.py:5: RuntimeWarning: Channels contain different lowpass filters. Lowest filter setting will be stored.\n",
      "  data = mne.io.read_raw_edf('D:\\Brain_siez_det\\eegfiles\\eeg34.edf', preload=True)\n"
     ]
    },
    {
     "name": "stdout",
     "output_type": "stream",
     "text": [
      "1661696\n",
      "(21, 830849)\n",
      "Extracting EDF parameters from D:\\Brain_siez_det\\eegfiles\\eeg34.edf...\n",
      "EDF file detected\n",
      "Setting channel info structure...\n",
      "Creating raw.info structure...\n",
      "Reading 0 ... 1661695  =      0.000 ...  6490.996 secs...\n"
     ]
    },
    {
     "name": "stderr",
     "output_type": "stream",
     "text": [
      "C:\\Users\\Yash Srivastava\\AppData\\Local\\Temp\\ipykernel_15688\\3540557239.py:5: RuntimeWarning: Channels contain different highpass filters. Highest filter setting will be stored.\n",
      "  data = mne.io.read_raw_edf('D:\\Brain_siez_det\\eegfiles\\eeg34.edf', preload=True)\n",
      "C:\\Users\\Yash Srivastava\\AppData\\Local\\Temp\\ipykernel_15688\\3540557239.py:5: RuntimeWarning: Channels contain different lowpass filters. Lowest filter setting will be stored.\n",
      "  data = mne.io.read_raw_edf('D:\\Brain_siez_det\\eegfiles\\eeg34.edf', preload=True)\n"
     ]
    },
    {
     "name": "stdout",
     "output_type": "stream",
     "text": [
      "1661696\n",
      "(21, 830849)\n",
      "Extracting EDF parameters from D:\\Brain_siez_det\\eegfiles\\eeg34.edf...\n",
      "EDF file detected\n",
      "Setting channel info structure...\n",
      "Creating raw.info structure...\n",
      "Reading 0 ... 1661695  =      0.000 ...  6490.996 secs...\n"
     ]
    },
    {
     "name": "stderr",
     "output_type": "stream",
     "text": [
      "C:\\Users\\Yash Srivastava\\AppData\\Local\\Temp\\ipykernel_15688\\3540557239.py:5: RuntimeWarning: Channels contain different highpass filters. Highest filter setting will be stored.\n",
      "  data = mne.io.read_raw_edf('D:\\Brain_siez_det\\eegfiles\\eeg34.edf', preload=True)\n",
      "C:\\Users\\Yash Srivastava\\AppData\\Local\\Temp\\ipykernel_15688\\3540557239.py:5: RuntimeWarning: Channels contain different lowpass filters. Lowest filter setting will be stored.\n",
      "  data = mne.io.read_raw_edf('D:\\Brain_siez_det\\eegfiles\\eeg34.edf', preload=True)\n"
     ]
    },
    {
     "name": "stdout",
     "output_type": "stream",
     "text": [
      "1661696\n",
      "(21, 830849)\n",
      "Extracting EDF parameters from D:\\Brain_siez_det\\eegfiles\\eeg34.edf...\n",
      "EDF file detected\n",
      "Setting channel info structure...\n",
      "Creating raw.info structure...\n",
      "Reading 0 ... 1661695  =      0.000 ...  6490.996 secs...\n"
     ]
    },
    {
     "name": "stderr",
     "output_type": "stream",
     "text": [
      "C:\\Users\\Yash Srivastava\\AppData\\Local\\Temp\\ipykernel_15688\\3540557239.py:5: RuntimeWarning: Channels contain different highpass filters. Highest filter setting will be stored.\n",
      "  data = mne.io.read_raw_edf('D:\\Brain_siez_det\\eegfiles\\eeg34.edf', preload=True)\n",
      "C:\\Users\\Yash Srivastava\\AppData\\Local\\Temp\\ipykernel_15688\\3540557239.py:5: RuntimeWarning: Channels contain different lowpass filters. Lowest filter setting will be stored.\n",
      "  data = mne.io.read_raw_edf('D:\\Brain_siez_det\\eegfiles\\eeg34.edf', preload=True)\n"
     ]
    },
    {
     "name": "stdout",
     "output_type": "stream",
     "text": [
      "1661696\n",
      "(21, 830849)\n",
      "Extracting EDF parameters from D:\\Brain_siez_det\\eegfiles\\eeg34.edf...\n",
      "EDF file detected\n",
      "Setting channel info structure...\n",
      "Creating raw.info structure...\n",
      "Reading 0 ... 1661695  =      0.000 ...  6490.996 secs...\n"
     ]
    },
    {
     "name": "stderr",
     "output_type": "stream",
     "text": [
      "C:\\Users\\Yash Srivastava\\AppData\\Local\\Temp\\ipykernel_15688\\3540557239.py:5: RuntimeWarning: Channels contain different highpass filters. Highest filter setting will be stored.\n",
      "  data = mne.io.read_raw_edf('D:\\Brain_siez_det\\eegfiles\\eeg34.edf', preload=True)\n",
      "C:\\Users\\Yash Srivastava\\AppData\\Local\\Temp\\ipykernel_15688\\3540557239.py:5: RuntimeWarning: Channels contain different lowpass filters. Lowest filter setting will be stored.\n",
      "  data = mne.io.read_raw_edf('D:\\Brain_siez_det\\eegfiles\\eeg34.edf', preload=True)\n"
     ]
    },
    {
     "name": "stdout",
     "output_type": "stream",
     "text": [
      "1661696\n",
      "(21, 830849)\n",
      "Extracting EDF parameters from D:\\Brain_siez_det\\eegfiles\\eeg34.edf...\n",
      "EDF file detected\n",
      "Setting channel info structure...\n",
      "Creating raw.info structure...\n",
      "Reading 0 ... 1661695  =      0.000 ...  6490.996 secs...\n"
     ]
    },
    {
     "name": "stderr",
     "output_type": "stream",
     "text": [
      "C:\\Users\\Yash Srivastava\\AppData\\Local\\Temp\\ipykernel_15688\\3540557239.py:5: RuntimeWarning: Channels contain different highpass filters. Highest filter setting will be stored.\n",
      "  data = mne.io.read_raw_edf('D:\\Brain_siez_det\\eegfiles\\eeg34.edf', preload=True)\n",
      "C:\\Users\\Yash Srivastava\\AppData\\Local\\Temp\\ipykernel_15688\\3540557239.py:5: RuntimeWarning: Channels contain different lowpass filters. Lowest filter setting will be stored.\n",
      "  data = mne.io.read_raw_edf('D:\\Brain_siez_det\\eegfiles\\eeg34.edf', preload=True)\n"
     ]
    },
    {
     "name": "stdout",
     "output_type": "stream",
     "text": [
      "1661696\n",
      "(21, 830849)\n",
      "Extracting EDF parameters from D:\\Brain_siez_det\\eegfiles\\eeg34.edf...\n",
      "EDF file detected\n",
      "Setting channel info structure...\n",
      "Creating raw.info structure...\n",
      "Reading 0 ... 1661695  =      0.000 ...  6490.996 secs...\n"
     ]
    },
    {
     "name": "stderr",
     "output_type": "stream",
     "text": [
      "C:\\Users\\Yash Srivastava\\AppData\\Local\\Temp\\ipykernel_15688\\3540557239.py:5: RuntimeWarning: Channels contain different highpass filters. Highest filter setting will be stored.\n",
      "  data = mne.io.read_raw_edf('D:\\Brain_siez_det\\eegfiles\\eeg34.edf', preload=True)\n",
      "C:\\Users\\Yash Srivastava\\AppData\\Local\\Temp\\ipykernel_15688\\3540557239.py:5: RuntimeWarning: Channels contain different lowpass filters. Lowest filter setting will be stored.\n",
      "  data = mne.io.read_raw_edf('D:\\Brain_siez_det\\eegfiles\\eeg34.edf', preload=True)\n"
     ]
    },
    {
     "name": "stdout",
     "output_type": "stream",
     "text": [
      "1661696\n",
      "(21, 830849)\n",
      "Extracting EDF parameters from D:\\Brain_siez_det\\eegfiles\\eeg34.edf...\n",
      "EDF file detected\n",
      "Setting channel info structure...\n",
      "Creating raw.info structure...\n",
      "Reading 0 ... 1661695  =      0.000 ...  6490.996 secs...\n"
     ]
    },
    {
     "name": "stderr",
     "output_type": "stream",
     "text": [
      "C:\\Users\\Yash Srivastava\\AppData\\Local\\Temp\\ipykernel_15688\\3540557239.py:5: RuntimeWarning: Channels contain different highpass filters. Highest filter setting will be stored.\n",
      "  data = mne.io.read_raw_edf('D:\\Brain_siez_det\\eegfiles\\eeg34.edf', preload=True)\n",
      "C:\\Users\\Yash Srivastava\\AppData\\Local\\Temp\\ipykernel_15688\\3540557239.py:5: RuntimeWarning: Channels contain different lowpass filters. Lowest filter setting will be stored.\n",
      "  data = mne.io.read_raw_edf('D:\\Brain_siez_det\\eegfiles\\eeg34.edf', preload=True)\n"
     ]
    },
    {
     "name": "stdout",
     "output_type": "stream",
     "text": [
      "1661696\n",
      "(21, 830849)\n",
      "Extracting EDF parameters from D:\\Brain_siez_det\\eegfiles\\eeg34.edf...\n",
      "EDF file detected\n",
      "Setting channel info structure...\n",
      "Creating raw.info structure...\n",
      "Reading 0 ... 1661695  =      0.000 ...  6490.996 secs...\n"
     ]
    },
    {
     "name": "stderr",
     "output_type": "stream",
     "text": [
      "C:\\Users\\Yash Srivastava\\AppData\\Local\\Temp\\ipykernel_15688\\3540557239.py:5: RuntimeWarning: Channels contain different highpass filters. Highest filter setting will be stored.\n",
      "  data = mne.io.read_raw_edf('D:\\Brain_siez_det\\eegfiles\\eeg34.edf', preload=True)\n",
      "C:\\Users\\Yash Srivastava\\AppData\\Local\\Temp\\ipykernel_15688\\3540557239.py:5: RuntimeWarning: Channels contain different lowpass filters. Lowest filter setting will be stored.\n",
      "  data = mne.io.read_raw_edf('D:\\Brain_siez_det\\eegfiles\\eeg34.edf', preload=True)\n"
     ]
    },
    {
     "name": "stdout",
     "output_type": "stream",
     "text": [
      "1661696\n",
      "(21, 830849)\n"
     ]
    }
   ],
   "source": [
    "with open('eeg73-power.csv', 'w') as file:\n",
    "    writer = csv.writer(file)\n",
    "    for row in range(20):\n",
    "        row_to_add = []\n",
    "        data = mne.io.read_raw_edf('D:\\Brain_siez_det\\eegfiles\\eeg34.edf', preload=True)\n",
    "        data = data[:][0]\n",
    "        psd_vals = psd(data)\n",
    "        for band in eeg_bands:\n",
    "            row_to_add.append(psd_vals[band] * 1000000)  \n",
    "        writer.writerow(row_to_add)"
   ]
  }
 ],
 "metadata": {
  "kernelspec": {
   "display_name": "Python 3",
   "language": "python",
   "name": "python3"
  },
  "language_info": {
   "codemirror_mode": {
    "name": "ipython",
    "version": 3
   },
   "file_extension": ".py",
   "mimetype": "text/x-python",
   "name": "python",
   "nbconvert_exporter": "python",
   "pygments_lexer": "ipython3",
   "version": "3.9.12"
  }
 },
 "nbformat": 4,
 "nbformat_minor": 4
}
