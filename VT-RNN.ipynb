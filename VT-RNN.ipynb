{
 "cells": [
  {
   "cell_type": "code",
   "execution_count": 1,
   "metadata": {},
   "outputs": [
    {
     "name": "stderr",
     "output_type": "stream",
     "text": [
      "C:\\Users\\Yash Srivastava\\AppData\\Local\\Temp\\ipykernel_13908\\3504170669.py:54: DeprecationWarning: KerasClassifier is deprecated, use Sci-Keras (https://github.com/adriangb/scikeras) instead. See https://www.adriangb.com/scikeras/stable/migration.html for help migrating.\n",
      "  model = KerasClassifier(build_fn=create_rnn_model, verbose=0)\n"
     ]
    },
    {
     "name": "stdout",
     "output_type": "stream",
     "text": [
      "Best Parameters: {'batch_size': 32, 'dropout_rate': 0.4, 'epochs': 200, 'init': 'normal', 'optimizer': 'adam'}\n",
      "Best Score: 0.7622433503468832\n"
     ]
    }
   ],
   "source": [
    "import pandas as pd\n",
    "from sklearn.model_selection import train_test_split\n",
    "from tensorflow.keras.layers import SimpleRNN, Dense, Dropout\n",
    "from sklearn import preprocessing as pre\n",
    "from tensorflow.keras.models import Sequential\n",
    "from tensorflow.keras.wrappers.scikit_learn import KerasClassifier\n",
    "from sklearn.model_selection import GridSearchCV\n",
    "from sklearn.feature_selection import VarianceThreshold\n",
    "\n",
    "# Load the dataset\n",
    "data = pd.read_csv('final-dataset.csv')\n",
    "\n",
    "# Prepare the features and labels\n",
    "X = data.drop(columns=['Signal','Label','Hurst Component'])\n",
    "y = data['Label']\n",
    "\n",
    "# Feature selection using VarianceThreshold\n",
    "def variance_threshold_selector(data, threshold):\n",
    "    selector = VarianceThreshold(threshold)\n",
    "    selector.fit_transform(data)\n",
    "    return data[data.columns[selector.get_support(indices=True)]]\n",
    "\n",
    "# Apply feature selection\n",
    "p = 0.8\n",
    "X = variance_threshold_selector(X, p*(1-p))\n",
    "\n",
    "# Split the data into training, validation, and test sets\n",
    "X_train, X_test, y_train, y_test = train_test_split(X, y, test_size=0.3, random_state=0)\n",
    "x_val, x_test, y_val, y_test = train_test_split(X_test, y_test, test_size=0.5, random_state=0)\n",
    "\n",
    "# Reshape input data for RNN (samples, timesteps, features)\n",
    "X_train = X_train.values.reshape((X_train.shape[0], 1, X_train.shape[1]))\n",
    "x_test = x_test.values.reshape((x_test.shape[0], 1, x_test.shape[1]))\n",
    "x_val = x_val.values.reshape((x_val.shape[0], 1, x_val.shape[1]))\n",
    "\n",
    "# Scale the features\n",
    "scaler = pre.StandardScaler()\n",
    "X_train = scaler.fit_transform(X_train.reshape(X_train.shape[0], -1)).reshape(X_train.shape)\n",
    "x_test = scaler.transform(x_test.reshape(x_test.shape[0], -1)).reshape(x_test.shape)\n",
    "x_val = scaler.transform(x_val.reshape(x_val.shape[0], -1)).reshape(x_val.shape)\n",
    "\n",
    "# Define RNN model\n",
    "def create_rnn_model(optimizer='adam', init='glorot_uniform', dropout_rate=0.2):\n",
    "    model = Sequential()\n",
    "    model.add(SimpleRNN(128, input_shape=(1, X_train.shape[2]), activation='relu', kernel_initializer=init))\n",
    "    model.add(Dropout(dropout_rate))\n",
    "    model.add(Dense(64, activation='relu', kernel_initializer=init))\n",
    "    model.add(Dropout(dropout_rate))\n",
    "    model.add(Dense(1, activation='sigmoid'))\n",
    "    model.compile(optimizer=optimizer, loss='binary_crossentropy', metrics=['accuracy'])\n",
    "    return model\n",
    "\n",
    "# Wrap the model in a KerasClassifier\n",
    "model = KerasClassifier(build_fn=create_rnn_model, verbose=0)\n",
    "\n",
    "# Define hyperparameters for GridSearchCV\n",
    "parameters = {\n",
    "    'batch_size': [32, 64, 128],\n",
    "    'epochs': [50, 100, 200],\n",
    "    'optimizer': ['adam', 'sgd'],\n",
    "    'init': ['glorot_uniform', 'normal'],\n",
    "    'dropout_rate': [0.2, 0.3, 0.4]\n",
    "}\n",
    "\n",
    "# Set up GridSearchCV\n",
    "grid_search = GridSearchCV(estimator=model, param_grid=parameters, n_jobs=-1, cv=3)\n",
    "\n",
    "# Fit the grid search\n",
    "grid_search.fit(X_train, y_train)\n",
    "\n",
    "# Print the best parameters and score\n",
    "print(f\"Best Parameters: {grid_search.best_params_}\")\n",
    "print(f\"Best Score: {grid_search.best_score_}\")\n"
   ]
  }
 ],
 "metadata": {
  "kernelspec": {
   "display_name": "Python 3",
   "language": "python",
   "name": "python3"
  },
  "language_info": {
   "codemirror_mode": {
    "name": "ipython",
    "version": 3
   },
   "file_extension": ".py",
   "mimetype": "text/x-python",
   "name": "python",
   "nbconvert_exporter": "python",
   "pygments_lexer": "ipython3",
   "version": "3.9.12"
  }
 },
 "nbformat": 4,
 "nbformat_minor": 2
}
