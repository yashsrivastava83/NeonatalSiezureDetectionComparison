{
 "cells": [
  {
   "cell_type": "code",
   "execution_count": null,
   "metadata": {},
   "outputs": [
    {
     "name": "stdout",
     "output_type": "stream",
     "text": [
      "Extracting EDF parameters from D:\\Brain_siez_det\\eegfiles\\eeg1.edf...\n",
      "EDF file detected\n",
      "Setting channel info structure...\n",
      "Creating raw.info structure...\n",
      "Reading 0 ... 1790207  =      0.000 ...  6992.996 secs...\n"
     ]
    },
    {
     "name": "stderr",
     "output_type": "stream",
     "text": [
      "d:\\Brain_siez_det\\pyeeg.py:85: RuntimeWarning: invalid value encountered in divide\n",
      "  R_S = R_T / S_T\n",
      "C:\\Users\\Yash Srivastava\\AppData\\Local\\Temp\\ipykernel_8572\\2514187090.py:16: RuntimeWarning: Precision loss occurred in moment calculation due to catastrophic cancellation. This occurs when the data are nearly identical. Results may be unreliable.\n",
      "  return np.mean(skew(chunk, axis=0))\n",
      "C:\\Users\\Yash Srivastava\\AppData\\Local\\Temp\\ipykernel_8572\\2514187090.py:13: RuntimeWarning: Precision loss occurred in moment calculation due to catastrophic cancellation. This occurs when the data are nearly identical. Results may be unreliable.\n",
      "  return np.mean(kurtosis(chunk, axis=0))\n",
      "d:\\Brain_siez_det\\pyeeg.py:85: RuntimeWarning: divide by zero encountered in divide\n",
      "  R_S = R_T / S_T\n"
     ]
    },
    {
     "name": "stdout",
     "output_type": "stream",
     "text": [
      "Extracting EDF parameters from D:\\Brain_siez_det\\eegfiles\\eeg10.edf...\n",
      "EDF file detected\n",
      "Setting channel info structure...\n",
      "Creating raw.info structure...\n",
      "Reading 0 ... 1389311  =      0.000 ...  5426.996 secs...\n"
     ]
    },
    {
     "name": "stderr",
     "output_type": "stream",
     "text": [
      "C:\\Users\\Yash Srivastava\\AppData\\Local\\Temp\\ipykernel_8572\\2514187090.py:40: RuntimeWarning: Channels contain different highpass filters. Highest filter setting will be stored.\n",
      "  data = mne.io.read_raw_edf(file_path, preload=True)\n",
      "C:\\Users\\Yash Srivastava\\AppData\\Local\\Temp\\ipykernel_8572\\2514187090.py:40: RuntimeWarning: Channels contain different lowpass filters. Lowest filter setting will be stored.\n",
      "  data = mne.io.read_raw_edf(file_path, preload=True)\n"
     ]
    }
   ],
   "source": [
    "import mne\n",
    "import numpy as np\n",
    "import csv\n",
    "import os\n",
    "from scipy.stats import skew, kurtosis\n",
    "import antropy as ant\n",
    "import pyeeg\n",
    "\n",
    "def mean_variance(chunk):\n",
    "    return np.mean(np.var(chunk, axis=0))\n",
    "\n",
    "def mean_kurtosis(chunk):\n",
    "    return np.mean(kurtosis(chunk, axis=0))\n",
    "\n",
    "def mean_skewness(chunk):\n",
    "    return np.mean(skew(chunk, axis=0))\n",
    "\n",
    "def func_mean_hurst(chunk):\n",
    "    return np.mean([pyeeg.hurst(chunk[i, :]) for i in range(chunk.shape[0])])\n",
    "\n",
    "def mean_hjorth_mob_comp(chunk):\n",
    "    mob_vals, comp_vals = zip(*[\n",
    "        ant.hjorth_params(chunk[i, :]) if np.var(chunk[i, :]) > 0 else (0, 0)\n",
    "        for i in range(chunk.shape[0])\n",
    "    ])\n",
    "    return np.mean(mob_vals), np.mean(comp_vals)\n",
    "\n",
    "def all_psd(chunk, fs=256):\n",
    "    N = chunk.shape[1]\n",
    "    fft_vals = np.abs(np.fft.rfft(chunk, axis=1))\n",
    "    psd_vals = (N / fs) * fft_vals ** 2\n",
    "    fft_freq = np.fft.rfftfreq(N, 1.0 / fs)\n",
    "    eeg_bands = {'Delta': (0, 4), 'Theta': (4, 8), 'Alpha': (8, 12), 'Beta': (12, 30), 'Gamma': (30, 45)}\n",
    "    return [\n",
    "        np.mean(psd_vals[:, np.where((fft_freq >= eeg_bands[band][0]) & (fft_freq <= eeg_bands[band][1]))[0]]) * 1e6\n",
    "        for band in eeg_bands\n",
    "    ]\n",
    "\n",
    "def process_edf_in_chunks(file_path, chunk_size=5000):\n",
    "    data = mne.io.read_raw_edf(file_path, preload=True)\n",
    "    eeg_data = data.get_data()\n",
    "    num_samples = eeg_data.shape[1]\n",
    "    \n",
    "    results = []\n",
    "    for start in range(0, num_samples, chunk_size):\n",
    "        end = min(start + chunk_size, num_samples)\n",
    "        chunk = eeg_data[:, start:end]\n",
    "        \n",
    "        power_vals = all_psd(chunk)\n",
    "        mean_var = mean_variance(chunk)\n",
    "        mean_skew = mean_skewness(chunk)\n",
    "        mean_h_mob, mean_h_comp = mean_hjorth_mob_comp(chunk)\n",
    "        mean_hurst_val = func_mean_hurst(chunk)\n",
    "        mean_k = mean_kurtosis(chunk)\n",
    "        \n",
    "        results.append(power_vals + [mean_skew, mean_var, mean_k, mean_h_mob, mean_h_comp, mean_hurst_val])\n",
    "    \n",
    "    return np.mean(results, axis=0)  # Aggregate over chunks\n",
    "\n",
    "edf_folder = 'D:/Brain_siez_det/eegfiles/'\n",
    "output_file = 'D:/Brain_siez_det/csvOutput/alloutput.csv'\n",
    "edf_files = [f for f in os.listdir(edf_folder) if f.endswith('.edf')]\n",
    "\n",
    "with open(output_file, 'w', newline='') as file:\n",
    "    writer = csv.writer(file)\n",
    "    header = [\"File Name\", \"Delta\", \"Theta\", \"Alpha\", \"Beta\", \"Gamma\", \"Skewness\", \"Variance\", \"Kurtosis\", \"Hjorth_Mobility\", \"Hjorth_Complexity\", \"Hurst\"]\n",
    "    writer.writerow(header)\n",
    "    \n",
    "    for edf_file in edf_files:\n",
    "        file_path = os.path.join(edf_folder, edf_file)\n",
    "        extracted_features = process_edf_in_chunks(file_path)\n",
    "        writer.writerow([edf_file] + extracted_features.tolist())\n",
    "\n",
    "print(\"Chunk-based feature extraction completed and saved to\", output_file)\n"
   ]
  }
 ],
 "metadata": {
  "kernelspec": {
   "display_name": "Python 3",
   "language": "python",
   "name": "python3"
  },
  "language_info": {
   "codemirror_mode": {
    "name": "ipython",
    "version": 3
   },
   "file_extension": ".py",
   "mimetype": "text/x-python",
   "name": "python",
   "nbconvert_exporter": "python",
   "pygments_lexer": "ipython3",
   "version": "3.9.12"
  }
 },
 "nbformat": 4,
 "nbformat_minor": 2
}
